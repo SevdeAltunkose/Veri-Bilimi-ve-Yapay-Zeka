{
 "cells": [
  {
   "cell_type": "code",
   "execution_count": 53,
   "id": "73cd7473-83fe-476b-ae07-959c4c7801c3",
   "metadata": {},
   "outputs": [],
   "source": [
    "\n",
    "#VERİ BİLİMİ ÖDEVİ1\n"
   ]
  },
  {
   "cell_type": "code",
   "execution_count": 4,
   "id": "336c2561-5cf1-4dd3-b70d-5d75d1eb1355",
   "metadata": {},
   "outputs": [],
   "source": [
    "x=20"
   ]
  },
  {
   "cell_type": "code",
   "execution_count": 5,
   "id": "b19d6feb-2d1a-4598-8985-98a9eaad2276",
   "metadata": {},
   "outputs": [
    {
     "data": {
      "text/plain": [
       "int"
      ]
     },
     "execution_count": 5,
     "metadata": {},
     "output_type": "execute_result"
    }
   ],
   "source": [
    "type(x)"
   ]
  },
  {
   "cell_type": "code",
   "execution_count": 6,
   "id": "0ed3c618-7789-428d-a089-2c911ed70788",
   "metadata": {},
   "outputs": [],
   "source": [
    "a=5.5"
   ]
  },
  {
   "cell_type": "code",
   "execution_count": 7,
   "id": "ca9ae767-db98-4f0a-9b57-fd0a1c951bde",
   "metadata": {},
   "outputs": [
    {
     "data": {
      "text/plain": [
       "float"
      ]
     },
     "execution_count": 7,
     "metadata": {},
     "output_type": "execute_result"
    }
   ],
   "source": [
    "type(a)"
   ]
  },
  {
   "cell_type": "code",
   "execution_count": 10,
   "id": "dd3f559d-ff71-4dc8-aab4-0db6c009b5f5",
   "metadata": {},
   "outputs": [],
   "source": [
    "b=\"Veri Bilimi Ödevi\""
   ]
  },
  {
   "cell_type": "code",
   "execution_count": 11,
   "id": "185588e3-ff4c-4694-89a6-83c6c0c14d44",
   "metadata": {},
   "outputs": [
    {
     "data": {
      "text/plain": [
       "str"
      ]
     },
     "execution_count": 11,
     "metadata": {},
     "output_type": "execute_result"
    }
   ],
   "source": [
    "type(b)"
   ]
  },
  {
   "cell_type": "code",
   "execution_count": 13,
   "id": "1e3bb707-20ff-41a9-b1c6-3b6e445f4999",
   "metadata": {},
   "outputs": [],
   "source": [
    "c=20>10"
   ]
  },
  {
   "cell_type": "code",
   "execution_count": 14,
   "id": "38bb91a0-3e81-4ca3-8974-028daf95510f",
   "metadata": {},
   "outputs": [
    {
     "data": {
      "text/plain": [
       "bool"
      ]
     },
     "execution_count": 14,
     "metadata": {},
     "output_type": "execute_result"
    }
   ],
   "source": [
    "type(c)"
   ]
  },
  {
   "cell_type": "code",
   "execution_count": 2,
   "id": "d5cb2637-f872-48a7-b1b0-65d88e254a2b",
   "metadata": {},
   "outputs": [],
   "source": [
    "tuğçe=24\n",
    "sevde=28\n",
    "buse=25\n",
    "asya=24"
   ]
  },
  {
   "cell_type": "code",
   "execution_count": 17,
   "id": "9714fff8-98db-4e3b-a770-b08a8527fcde",
   "metadata": {},
   "outputs": [
    {
     "data": {
      "text/plain": [
       "False"
      ]
     },
     "execution_count": 17,
     "metadata": {},
     "output_type": "execute_result"
    }
   ],
   "source": [
    "tuğçe == sevde"
   ]
  },
  {
   "cell_type": "code",
   "execution_count": 19,
   "id": "690cb84e-ad83-4c0e-b2aa-9abf4bc905b0",
   "metadata": {},
   "outputs": [
    {
     "data": {
      "text/plain": [
       "True"
      ]
     },
     "execution_count": 19,
     "metadata": {},
     "output_type": "execute_result"
    }
   ],
   "source": [
    "tuğçe == asya"
   ]
  },
  {
   "cell_type": "code",
   "execution_count": 20,
   "id": "316a2e28-6f90-4683-9c79-44354302ecd5",
   "metadata": {},
   "outputs": [
    {
     "data": {
      "text/plain": [
       "True"
      ]
     },
     "execution_count": 20,
     "metadata": {},
     "output_type": "execute_result"
    }
   ],
   "source": [
    "sevde >= buse"
   ]
  },
  {
   "cell_type": "code",
   "execution_count": 21,
   "id": "9b07336b-9779-4dbc-89ea-6c4f4c6f0e7d",
   "metadata": {},
   "outputs": [
    {
     "data": {
      "text/plain": [
       "False"
      ]
     },
     "execution_count": 21,
     "metadata": {},
     "output_type": "execute_result"
    }
   ],
   "source": [
    "buse <=asya"
   ]
  },
  {
   "cell_type": "code",
   "execution_count": 22,
   "id": "49fff7b7-10ca-487d-a95c-e199cb3d453d",
   "metadata": {},
   "outputs": [
    {
     "data": {
      "text/plain": [
       "False"
      ]
     },
     "execution_count": 22,
     "metadata": {},
     "output_type": "execute_result"
    }
   ],
   "source": [
    "tuğçe !=asya"
   ]
  },
  {
   "cell_type": "code",
   "execution_count": 3,
   "id": "821860d2-1c70-4948-bd63-1c56ac8c7a37",
   "metadata": {},
   "outputs": [
    {
     "data": {
      "text/plain": [
       "True"
      ]
     },
     "execution_count": 3,
     "metadata": {},
     "output_type": "execute_result"
    }
   ],
   "source": [
    "tuğçe<buse and  sevde>tuğçe    #and operatörün iki tarafı da doğru olursa olur."
   ]
  },
  {
   "cell_type": "code",
   "execution_count": 50,
   "id": "44bd7b9c-ffbb-45f9-9859-b32a897b1995",
   "metadata": {},
   "outputs": [
    {
     "data": {
      "text/plain": [
       "False"
      ]
     },
     "execution_count": 50,
     "metadata": {},
     "output_type": "execute_result"
    }
   ],
   "source": [
    "asya>buse and sevde>buse       "
   ]
  },
  {
   "cell_type": "code",
   "execution_count": 5,
   "id": "f4990b47-d552-42fb-ba2a-5b5986715411",
   "metadata": {},
   "outputs": [
    {
     "data": {
      "text/plain": [
       "True"
      ]
     },
     "execution_count": 5,
     "metadata": {},
     "output_type": "execute_result"
    }
   ],
   "source": [
    "asya >buse or asya<sevde       #or operatörün bir tarafı doğru olursa olur."
   ]
  },
  {
   "cell_type": "code",
   "execution_count": 6,
   "id": "17a18498-c456-47ec-bacb-11f4dc3d7d0a",
   "metadata": {},
   "outputs": [
    {
     "data": {
      "text/plain": [
       "False"
      ]
     },
     "execution_count": 6,
     "metadata": {},
     "output_type": "execute_result"
    }
   ],
   "source": [
    "sevde<buse or tuğçe>asya       "
   ]
  },
  {
   "cell_type": "code",
   "execution_count": 7,
   "id": "7eae3245-65d2-4ae2-a03f-ef9f28805c00",
   "metadata": {},
   "outputs": [
    {
     "data": {
      "text/plain": [
       "False"
      ]
     },
     "execution_count": 7,
     "metadata": {},
     "output_type": "execute_result"
    }
   ],
   "source": [
    "not(sevde>asya)                #not operatöru koşulun tam tersini alır."
   ]
  },
  {
   "cell_type": "code",
   "execution_count": 8,
   "id": "8353b518-3f5a-4731-943d-f2ad91fc8fb8",
   "metadata": {},
   "outputs": [
    {
     "data": {
      "text/plain": [
       "True"
      ]
     },
     "execution_count": 8,
     "metadata": {},
     "output_type": "execute_result"
    }
   ],
   "source": [
    "not(tuğçe<asya)"
   ]
  },
  {
   "cell_type": "code",
   "execution_count": 23,
   "id": "883aef19-c914-429b-9aaa-bc200dc4a98c",
   "metadata": {},
   "outputs": [],
   "source": [
    "a=7\n",
    "b=4"
   ]
  },
  {
   "cell_type": "code",
   "execution_count": 24,
   "id": "4620e3b9-b413-4358-b787-3d28922c09ad",
   "metadata": {},
   "outputs": [
    {
     "data": {
      "text/plain": [
       "11"
      ]
     },
     "execution_count": 24,
     "metadata": {},
     "output_type": "execute_result"
    }
   ],
   "source": [
    "a+b"
   ]
  },
  {
   "cell_type": "code",
   "execution_count": 25,
   "id": "97e9f81f-7132-4196-9089-52416aa9eba4",
   "metadata": {},
   "outputs": [
    {
     "data": {
      "text/plain": [
       "28"
      ]
     },
     "execution_count": 25,
     "metadata": {},
     "output_type": "execute_result"
    }
   ],
   "source": [
    "a*b"
   ]
  },
  {
   "cell_type": "code",
   "execution_count": 26,
   "id": "ffeadfe0-ddca-4acd-b3c4-08624a4200c5",
   "metadata": {},
   "outputs": [
    {
     "data": {
      "text/plain": [
       "3"
      ]
     },
     "execution_count": 26,
     "metadata": {},
     "output_type": "execute_result"
    }
   ],
   "source": [
    "a-b"
   ]
  },
  {
   "cell_type": "code",
   "execution_count": 27,
   "id": "8f097857-15e8-4693-9590-3ae90fbc1fad",
   "metadata": {},
   "outputs": [
    {
     "data": {
      "text/plain": [
       "1.75"
      ]
     },
     "execution_count": 27,
     "metadata": {},
     "output_type": "execute_result"
    }
   ],
   "source": [
    "a/b"
   ]
  },
  {
   "cell_type": "code",
   "execution_count": 28,
   "id": "28b60221-ec16-4fb7-9970-d1b6d06171ec",
   "metadata": {},
   "outputs": [
    {
     "data": {
      "text/plain": [
       "1"
      ]
     },
     "execution_count": 28,
     "metadata": {},
     "output_type": "execute_result"
    }
   ],
   "source": [
    "a//b"
   ]
  },
  {
   "cell_type": "code",
   "execution_count": 32,
   "id": "df0c6c73-a710-401d-bb72-2898e40168da",
   "metadata": {},
   "outputs": [
    {
     "name": "stdin",
     "output_type": "stream",
     "text": [
      "adınız Asya \n"
     ]
    }
   ],
   "source": [
    "name =input(\"adınız\")"
   ]
  },
  {
   "cell_type": "code",
   "execution_count": 33,
   "id": "b1fb041e-a08a-4f89-aeca-a9628b3d192d",
   "metadata": {},
   "outputs": [
    {
     "name": "stdin",
     "output_type": "stream",
     "text": [
      "yaşınız 27\n"
     ]
    }
   ],
   "source": [
    "age =input(\"yaşınız\")"
   ]
  },
  {
   "cell_type": "code",
   "execution_count": 36,
   "id": "44635855-78ff-4b94-bed5-aa5541726ad2",
   "metadata": {},
   "outputs": [
    {
     "name": "stdin",
     "output_type": "stream",
     "text": [
      "şehriniz adana\n"
     ]
    }
   ],
   "source": [
    "city =input(\"şehriniz\")"
   ]
  },
  {
   "cell_type": "code",
   "execution_count": 37,
   "id": "45e6acfa-7a56-4b36-b603-71bb442827e0",
   "metadata": {},
   "outputs": [
    {
     "name": "stdin",
     "output_type": "stream",
     "text": [
      "mesleğiniz bilgisayar mühendisi\n"
     ]
    }
   ],
   "source": [
    "jop =input(\"mesleğiniz\")"
   ]
  },
  {
   "cell_type": "code",
   "execution_count": 12,
   "id": "fc995249-c95a-49c0-844e-f23a0374d2ec",
   "metadata": {},
   "outputs": [],
   "source": [
    "atolye=\"Yazılımla Güçlenen Kadınlar Veri Bilimi Atölyesi\""
   ]
  },
  {
   "cell_type": "code",
   "execution_count": 24,
   "id": "37e61b20-279f-4125-baf2-fcf715ceacea",
   "metadata": {},
   "outputs": [
    {
     "name": "stdout",
     "output_type": "stream",
     "text": [
      "Yazılımla\n"
     ]
    }
   ],
   "source": [
    "print(atolye[0:9])"
   ]
  },
  {
   "cell_type": "code",
   "execution_count": 30,
   "id": "3d6edaa4-dedc-4e9c-92bb-8ac37e2843d7",
   "metadata": {},
   "outputs": [
    {
     "name": "stdout",
     "output_type": "stream",
     "text": [
      "Güçlenen\n"
     ]
    }
   ],
   "source": [
    "print(atolye[10:18])"
   ]
  },
  {
   "cell_type": "code",
   "execution_count": 31,
   "id": "57eef1be-5c76-495b-bf40-4316d49a4db6",
   "metadata": {},
   "outputs": [
    {
     "name": "stdout",
     "output_type": "stream",
     "text": [
      "Kadınlar\n"
     ]
    }
   ],
   "source": [
    "print(atolye[19:27])"
   ]
  },
  {
   "cell_type": "code",
   "execution_count": 32,
   "id": "e3b5931d-1c8a-429f-80dd-0297921fdfd9",
   "metadata": {},
   "outputs": [
    {
     "name": "stdout",
     "output_type": "stream",
     "text": [
      "Veri\n"
     ]
    }
   ],
   "source": [
    "print(atolye[28:32])"
   ]
  },
  {
   "cell_type": "code",
   "execution_count": 33,
   "id": "6b8fecf1-12be-4de7-9a74-761b45f88d3c",
   "metadata": {},
   "outputs": [
    {
     "name": "stdout",
     "output_type": "stream",
     "text": [
      "Bilimi\n"
     ]
    }
   ],
   "source": [
    "print(atolye[33:39])"
   ]
  },
  {
   "cell_type": "code",
   "execution_count": 34,
   "id": "7df7fed0-afa8-4db3-a3ba-506f1c9d4335",
   "metadata": {},
   "outputs": [
    {
     "name": "stdout",
     "output_type": "stream",
     "text": [
      "Atölyesi\n"
     ]
    }
   ],
   "source": [
    "print(atolye[40:48])"
   ]
  },
  {
   "cell_type": "code",
   "execution_count": 37,
   "id": "913750c7-720d-4c63-8072-cdefa66f693b",
   "metadata": {},
   "outputs": [
    {
     "data": {
      "text/plain": [
       "'YAZILIMLA GÜÇLENEN KADINLAR VERI BILIMI ATÖLYESI'"
      ]
     },
     "execution_count": 37,
     "metadata": {},
     "output_type": "execute_result"
    }
   ],
   "source": [
    "atolye.upper()                                     #upper() büyük harf yapar."
   ]
  },
  {
   "cell_type": "code",
   "execution_count": 38,
   "id": "cdea55a8-b53f-4c0f-8392-f71eed4900da",
   "metadata": {},
   "outputs": [
    {
     "data": {
      "text/plain": [
       "'yazılımla güçlenen kadınlar veri bilimi atölyesi'"
      ]
     },
     "execution_count": 38,
     "metadata": {},
     "output_type": "execute_result"
    }
   ],
   "source": [
    "atolye.lower()                                    #lower() küçük harf yapar."
   ]
  },
  {
   "cell_type": "code",
   "execution_count": 49,
   "id": "59fb586b-7da9-4618-be53-c383fe63a867",
   "metadata": {},
   "outputs": [],
   "source": [
    "sayılar=\"0123456789\""
   ]
  },
  {
   "cell_type": "code",
   "execution_count": 47,
   "id": "3de4c0f6-0736-4b42-8a6b-e70837697bdf",
   "metadata": {},
   "outputs": [
    {
     "data": {
      "text/plain": [
       "'02468'"
      ]
     },
     "execution_count": 47,
     "metadata": {},
     "output_type": "execute_result"
    }
   ],
   "source": [
    "sayılar[0:9:2]  #Başlangıç sayısı dahildir 0 ile başlar.Bitiş sayısı dahil olmadığından 1 fazlası eklenerek dahil edilir\n",
    "                #Aralık sayısı belirtiltikten sonra adım sayısı belirtilir."
   ]
  },
  {
   "cell_type": "code",
   "execution_count": 45,
   "id": "7ccb07dc-e2a2-4982-a40b-c912d469663b",
   "metadata": {},
   "outputs": [
    {
     "data": {
      "text/plain": [
       "'02468'"
      ]
     },
     "execution_count": 45,
     "metadata": {},
     "output_type": "execute_result"
    }
   ],
   "source": [
    "sayılar[::2]    #Başlangıç ve bitiş sayılarını belirtmezsekte sayıların arasından adım sayısına göre istenileni verir."
   ]
  },
  {
   "cell_type": "code",
   "execution_count": 43,
   "id": "f50deaf6-e8b8-4d57-a47c-3d6791c5be96",
   "metadata": {},
   "outputs": [
    {
     "data": {
      "text/plain": [
       "'13579'"
      ]
     },
     "execution_count": 43,
     "metadata": {},
     "output_type": "execute_result"
    }
   ],
   "source": [
    "sayılar[1:10:2]"
   ]
  },
  {
   "cell_type": "code",
   "execution_count": 48,
   "id": "c7f4562d-3ac1-4ea5-88b6-b58488370ab6",
   "metadata": {},
   "outputs": [
    {
     "data": {
      "text/plain": [
       "'13579'"
      ]
     },
     "execution_count": 48,
     "metadata": {},
     "output_type": "execute_result"
    }
   ],
   "source": [
    "sayılar[1::2]  #Başlangıç sayısını belirtip bitiş sayısını belirtmezsek bitiş sayısı bütün sayılar arasından adım\n",
    "               #sayısına göre istenileni verir"
   ]
  }
 ],
 "metadata": {
  "kernelspec": {
   "display_name": "Python 3 (ipykernel)",
   "language": "python",
   "name": "python3"
  },
  "language_info": {
   "codemirror_mode": {
    "name": "ipython",
    "version": 3
   },
   "file_extension": ".py",
   "mimetype": "text/x-python",
   "name": "python",
   "nbconvert_exporter": "python",
   "pygments_lexer": "ipython3",
   "version": "3.12.4"
  }
 },
 "nbformat": 4,
 "nbformat_minor": 5
}
