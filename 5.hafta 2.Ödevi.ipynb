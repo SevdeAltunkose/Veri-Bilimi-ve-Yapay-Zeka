{
 "cells": [
  {
   "cell_type": "markdown",
   "id": "fecea6a3-6cc9-4789-8a02-cb0adcd1ed00",
   "metadata": {},
   "source": [
    "     Sevde ALtunköse            Tuğçe Özel                    Asya Akbulut\n",
    "     Matematik:85               Matematik:79                  Matematik:84\n",
    "     Fen:94                     Fen:67                        Fen:79\n",
    "     Türkçe:70                  Türkçe:48                     Türkçe:64"
   ]
  },
  {
   "cell_type": "markdown",
   "id": "1e146abd-6047-4530-a728-8eee16132b0f",
   "metadata": {},
   "source": [
    "1) Yukardaki tabloda bulunan bilgilerden bir sözlük oluşturun.Keyler kişiisimleri olsun.Value için ders ve puanlarından oluşan bir sözlük oluşturun."
   ]
  },
  {
   "cell_type": "code",
   "execution_count": 2,
   "id": "6f5db33b-3d06-4346-be01-eb1001e882ed",
   "metadata": {},
   "outputs": [],
   "source": [
    "dict ={\"Sevde Altunköse\":{\"Matematik\":85,\"Fen\":94,\"Türkçe\":70},\"Tuğçe Özel\":{\"Matematik\":79,\"Fen\":67,\"Türkçe\":48},\"Asya Akbulut\":{\"Matematik\":84,\"Fen\":79,\"Türkçe\":64}}"
   ]
  },
  {
   "cell_type": "code",
   "execution_count": 3,
   "id": "4d337137-19e7-4f56-8484-bd10c0cc1bfa",
   "metadata": {
    "scrolled": true
   },
   "outputs": [
    {
     "data": {
      "text/plain": [
       "{'Sevde Altunköse': {'Matematik': 85, 'Fen': 94, 'Türkçe': 70},\n",
       " 'Tuğçe Özel': {'Matematik': 79, 'Fen': 67, 'Türkçe': 48},\n",
       " 'Asya Akbulut': {'Matematik': 84, 'Fen': 79, 'Türkçe': 64}}"
      ]
     },
     "execution_count": 3,
     "metadata": {},
     "output_type": "execute_result"
    }
   ],
   "source": [
    "dict"
   ]
  },
  {
   "cell_type": "markdown",
   "id": "2a3768af-d5da-459c-8f0e-788e8e4f8b95",
   "metadata": {},
   "source": [
    "2) Sevde Altunköse'nin tüm ders puanlarının bilgisine ulaşın."
   ]
  },
  {
   "cell_type": "code",
   "execution_count": 4,
   "id": "194d7e02-5dcf-42ba-9e01-8478694e78ee",
   "metadata": {
    "scrolled": true
   },
   "outputs": [
    {
     "data": {
      "text/plain": [
       "{'Matematik': 85, 'Fen': 94, 'Türkçe': 70}"
      ]
     },
     "execution_count": 4,
     "metadata": {},
     "output_type": "execute_result"
    }
   ],
   "source": [
    "dict[\"Sevde Altunköse\"]"
   ]
  },
  {
   "cell_type": "markdown",
   "id": "e10c7110-4955-4579-8586-3756d6f89c65",
   "metadata": {},
   "source": [
    "3) Sevde'nin Fen puanı Tuğçe'nin Türkçe puanı Asya'nın Matematik puanını gösteriniz."
   ]
  },
  {
   "cell_type": "code",
   "execution_count": 5,
   "id": "4d5a1449-73e1-4aeb-8828-65eb4bca8975",
   "metadata": {},
   "outputs": [
    {
     "data": {
      "text/plain": [
       "94"
      ]
     },
     "execution_count": 5,
     "metadata": {},
     "output_type": "execute_result"
    }
   ],
   "source": [
    "dict[\"Sevde Altunköse\"][\"Fen\"]"
   ]
  },
  {
   "cell_type": "code",
   "execution_count": 6,
   "id": "5cf42c5b-9059-41fd-bfb6-eb6a296e9454",
   "metadata": {},
   "outputs": [
    {
     "data": {
      "text/plain": [
       "48"
      ]
     },
     "execution_count": 6,
     "metadata": {},
     "output_type": "execute_result"
    }
   ],
   "source": [
    "dict[\"Tuğçe Özel\"][\"Türkçe\"]"
   ]
  },
  {
   "cell_type": "code",
   "execution_count": 8,
   "id": "72af14ca-986d-4e3f-a5ec-01695668ce6d",
   "metadata": {},
   "outputs": [
    {
     "data": {
      "text/plain": [
       "84"
      ]
     },
     "execution_count": 8,
     "metadata": {},
     "output_type": "execute_result"
    }
   ],
   "source": [
    "dict[\"Asya Akbulut\"][\"Matematik\"]"
   ]
  },
  {
   "cell_type": "markdown",
   "id": "20d20aa4-1840-4bc7-9073-3be2c97fdf85",
   "metadata": {},
   "source": [
    "4) Sevde'nin Matematik puanını 86 olarak, Tuğçe'nin Türkçe notunu 78 olarak ve Asya'nın Fen puanını 83 olarak değiştirin."
   ]
  },
  {
   "cell_type": "code",
   "execution_count": 9,
   "id": "08254d82-637a-41e6-b1c3-8bf7d2acb2a8",
   "metadata": {},
   "outputs": [],
   "source": [
    "dict[\"Sevde Altunköse\"][\"Matematik\"]=86"
   ]
  },
  {
   "cell_type": "code",
   "execution_count": 10,
   "id": "3762751d-adee-4260-9d2e-a14e2f42c182",
   "metadata": {},
   "outputs": [
    {
     "data": {
      "text/plain": [
       "86"
      ]
     },
     "execution_count": 10,
     "metadata": {},
     "output_type": "execute_result"
    }
   ],
   "source": [
    "dict[\"Sevde Altunköse\"][\"Matematik\"]"
   ]
  },
  {
   "cell_type": "code",
   "execution_count": 11,
   "id": "0fd4d9e5-2294-4275-9fbb-b9b6f018a9bb",
   "metadata": {},
   "outputs": [],
   "source": [
    "dict[\"Tuğçe Özel\"][\"Türkçe\"]=78"
   ]
  },
  {
   "cell_type": "code",
   "execution_count": 12,
   "id": "d2490532-b318-4db0-9beb-03c0a8d39644",
   "metadata": {},
   "outputs": [
    {
     "data": {
      "text/plain": [
       "78"
      ]
     },
     "execution_count": 12,
     "metadata": {},
     "output_type": "execute_result"
    }
   ],
   "source": [
    "dict[\"Tuğçe Özel\"][\"Türkçe\"]"
   ]
  },
  {
   "cell_type": "code",
   "execution_count": 13,
   "id": "cec3b6c4-76c6-46e1-aae4-293629e70c1c",
   "metadata": {},
   "outputs": [],
   "source": [
    "dict[\"Asya Akbulut\"][\"Fen\"]=83"
   ]
  },
  {
   "cell_type": "code",
   "execution_count": 14,
   "id": "3b672eaf-fc5f-44a7-8612-6ce84c1fd076",
   "metadata": {
    "scrolled": true
   },
   "outputs": [
    {
     "data": {
      "text/plain": [
       "83"
      ]
     },
     "execution_count": 14,
     "metadata": {},
     "output_type": "execute_result"
    }
   ],
   "source": [
    "dict[\"Asya Akbulut\"][\"Fen\"]"
   ]
  },
  {
   "cell_type": "markdown",
   "id": "e50f20c4-fd67-4bc3-9d53-84023d770b32",
   "metadata": {},
   "source": [
    "5) Sözlüğe yeni kişinin bilgilerini ekleyin. "
   ]
  },
  {
   "cell_type": "markdown",
   "id": "f19a1623-8a26-47b1-88a1-71ef1be40371",
   "metadata": {},
   "source": [
    "Sultan Hünerli = Matematik:78, Fen:90, Türkçe:66"
   ]
  },
  {
   "cell_type": "code",
   "execution_count": 15,
   "id": "92a810e8-b0de-4a40-aea4-409393c5aca9",
   "metadata": {},
   "outputs": [],
   "source": [
    "dict[\"Sultan Hünerli\"]={\"Matematik\":78,\"Fen\":90,\"Türkçe\":66}"
   ]
  },
  {
   "cell_type": "code",
   "execution_count": 16,
   "id": "66b78aa5-0ac5-4512-b382-2e495e399817",
   "metadata": {},
   "outputs": [
    {
     "data": {
      "text/plain": [
       "{'Sevde Altunköse': {'Matematik': 86, 'Fen': 94, 'Türkçe': 70},\n",
       " 'Tuğçe Özel': {'Matematik': 79, 'Fen': 67, 'Türkçe': 78},\n",
       " 'Asya Akbulut': {'Matematik': 84, 'Fen': 83, 'Türkçe': 64},\n",
       " 'Sultan Hünerli': {'Matematik': 78, 'Fen': 90, 'Türkçe': 66}}"
      ]
     },
     "execution_count": 16,
     "metadata": {},
     "output_type": "execute_result"
    }
   ],
   "source": [
    "dict"
   ]
  }
 ],
 "metadata": {
  "kernelspec": {
   "display_name": "Python 3 (ipykernel)",
   "language": "python",
   "name": "python3"
  },
  "language_info": {
   "codemirror_mode": {
    "name": "ipython",
    "version": 3
   },
   "file_extension": ".py",
   "mimetype": "text/x-python",
   "name": "python",
   "nbconvert_exporter": "python",
   "pygments_lexer": "ipython3",
   "version": "3.12.4"
  }
 },
 "nbformat": 4,
 "nbformat_minor": 5
}
