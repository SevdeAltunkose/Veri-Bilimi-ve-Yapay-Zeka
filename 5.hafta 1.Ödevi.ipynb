{
 "cells": [
  {
   "cell_type": "markdown",
   "id": "3ad152e2-b28a-4f13-a1f7-a7d09645b774",
   "metadata": {},
   "source": [
    "1) Aşağıdaki işlemleri indexing ve slicing kullanarak liste üzerinde uygulayın.\r\n",
    "\r\n",
    "liste = [\"Python\",True,9,\"3\",8.4,\"Hi-Kod\",\"False\",4.7]\r\n",
    "\r\n",
    "\"3\" değerine ulaşmak için indexleme yapın.\r\n",
    "\r\n",
    "\"Hi-Kod\" değerine ulaşmak için indexleme yapın.\r\n",
    "\r\n",
    "4.7 değerine ulaşmak için indexleme yapın.\r\n",
    "\r\n",
    "9,\"3\",8.4,\"Hi-Kod\" değerlerine ulaşmak için slicing yapın.\r\n",
    "\r\n",
    "8.4,\"Hi-Kod\",\"False\",4.7 değerlerine ulaşmak için slicing yapın."
   ]
  },
  {
   "cell_type": "code",
   "execution_count": 1,
   "id": "42b083db-4aab-4193-9d7f-58c604d766b4",
   "metadata": {},
   "outputs": [],
   "source": [
    "liste = [\"Python\", True, 9, \"3\", 8.4, \"Hi-Kod\", \"False\", 4.7]"
   ]
  },
  {
   "cell_type": "code",
   "execution_count": 2,
   "id": "9dbabd34-cc4b-4f5a-8565-05833100db6f",
   "metadata": {},
   "outputs": [
    {
     "data": {
      "text/plain": [
       "'3'"
      ]
     },
     "execution_count": 2,
     "metadata": {},
     "output_type": "execute_result"
    }
   ],
   "source": [
    "liste[3]"
   ]
  },
  {
   "cell_type": "code",
   "execution_count": 3,
   "id": "2dd2b879-9033-4547-95e7-599ebe680b1e",
   "metadata": {},
   "outputs": [
    {
     "data": {
      "text/plain": [
       "'Hi-Kod'"
      ]
     },
     "execution_count": 3,
     "metadata": {},
     "output_type": "execute_result"
    }
   ],
   "source": [
    "liste[5]"
   ]
  },
  {
   "cell_type": "code",
   "execution_count": 4,
   "id": "6071c985-52b1-418a-9923-63b711c31b34",
   "metadata": {},
   "outputs": [
    {
     "data": {
      "text/plain": [
       "4.7"
      ]
     },
     "execution_count": 4,
     "metadata": {},
     "output_type": "execute_result"
    }
   ],
   "source": [
    "liste[7]"
   ]
  },
  {
   "cell_type": "code",
   "execution_count": 5,
   "id": "5ff7aec0-18d4-47fd-8737-fd182916ec56",
   "metadata": {},
   "outputs": [
    {
     "data": {
      "text/plain": [
       "4.7"
      ]
     },
     "execution_count": 5,
     "metadata": {},
     "output_type": "execute_result"
    }
   ],
   "source": [
    "liste[-1]"
   ]
  },
  {
   "cell_type": "code",
   "execution_count": 6,
   "id": "744284e6-496d-4074-8e73-ce9abfdaf191",
   "metadata": {},
   "outputs": [
    {
     "data": {
      "text/plain": [
       "[9, '3', 8.4, 'Hi-Kod']"
      ]
     },
     "execution_count": 6,
     "metadata": {},
     "output_type": "execute_result"
    }
   ],
   "source": [
    "liste[2:6]"
   ]
  },
  {
   "cell_type": "code",
   "execution_count": 7,
   "id": "f1e0273e-f80b-43d8-b69f-ea61f2754f6e",
   "metadata": {},
   "outputs": [
    {
     "data": {
      "text/plain": [
       "[8.4, 'Hi-Kod', 'False', 4.7]"
      ]
     },
     "execution_count": 7,
     "metadata": {},
     "output_type": "execute_result"
    }
   ],
   "source": [
    "liste[4:8]"
   ]
  },
  {
   "cell_type": "code",
   "execution_count": 8,
   "id": "04f93ecb-8fc5-447e-9edc-a7cf50a506a0",
   "metadata": {
    "scrolled": true
   },
   "outputs": [
    {
     "data": {
      "text/plain": [
       "[8.4, 'Hi-Kod', 'False', 4.7]"
      ]
     },
     "execution_count": 8,
     "metadata": {},
     "output_type": "execute_result"
    }
   ],
   "source": [
    "liste[4:]"
   ]
  },
  {
   "cell_type": "markdown",
   "id": "329e805b-855f-4eae-aafb-082423457184",
   "metadata": {},
   "source": [
    "2) Verilen listede bulunan string veri tipindeki öğeleri yeni_liste isimli listeye eklenir.\r\n",
    "\r\n",
    "liste = [\"Python\",True,9,\"3\",8.4,\"Hi-Kod\",\"False\",4.7]"
   ]
  },
  {
   "cell_type": "code",
   "execution_count": null,
   "id": "58ef524a-710c-4319-9e16-fdcffe809dc3",
   "metadata": {},
   "outputs": [],
   "source": [
    "liste = [\"Python\", True, 9, \"3\", 8.4, \"Hi-Kod\", \"False\", 4.7]"
   ]
  },
  {
   "cell_type": "code",
   "execution_count": 9,
   "id": "dc08850c-13f7-45a1-bb26-1dc3dfc134f0",
   "metadata": {
    "scrolled": true
   },
   "outputs": [
    {
     "data": {
      "text/plain": [
       "['Python', '3', 'Hi-Kod', 'False']"
      ]
     },
     "execution_count": 9,
     "metadata": {},
     "output_type": "execute_result"
    }
   ],
   "source": [
    "yeni_liste = []\n",
    "\n",
    "for eleman in liste:\n",
    "    if type(eleman) == str:\n",
    "        yeni_liste.append(eleman)\n",
    "\n",
    "yeni_liste"
   ]
  },
  {
   "cell_type": "markdown",
   "id": "55385b41-33e6-488e-a339-0d9169f89594",
   "metadata": {},
   "source": [
    "3) Enumerate methodunu araştırın ve aşağıdaki örneği enumerate methodu ile yapın.\n",
    "\n",
    "for index in range(len(meyveler)):\n",
    "\n",
    "    print(\"{}. indexte bulunan meyve: {}\".format(index,meyveler[index])"
   ]
  },
  {
   "cell_type": "code",
   "execution_count": 10,
   "id": "ab685f3c-d4b4-478b-87ba-199b61f94291",
   "metadata": {},
   "outputs": [
    {
     "name": "stdout",
     "output_type": "stream",
     "text": [
      "0.indexte bulunan meyve: erik\n",
      "1.indexte bulunan meyve: karpuz\n",
      "2.indexte bulunan meyve: kavun\n",
      "3.indexte bulunan meyve: kiraz\n",
      "4.indexte bulunan meyve: çilek\n",
      "5.indexte bulunan meyve: elma\n",
      "6.indexte bulunan meyve: armut\n"
     ]
    }
   ],
   "source": [
    "meyveler = ['erik', 'karpuz', 'kavun', 'kiraz', 'çilek', 'elma', 'armut']\n",
    "for index in range(len(meyveler)):\n",
    "    print(\"{}.indexte bulunan meyve: {}\".format(index,meyveler[index]))"
   ]
  },
  {
   "cell_type": "code",
   "execution_count": 12,
   "id": "c00f5cd2-5c6d-4275-80c7-c99623adc199",
   "metadata": {},
   "outputs": [
    {
     "name": "stdout",
     "output_type": "stream",
     "text": [
      "0.indexte bulunan meyve: erik\n",
      "1.indexte bulunan meyve: karpuz\n",
      "2.indexte bulunan meyve: kavun\n",
      "3.indexte bulunan meyve: kiraz\n",
      "4.indexte bulunan meyve: çilek\n",
      "5.indexte bulunan meyve: elma\n",
      "6.indexte bulunan meyve: armut\n"
     ]
    }
   ],
   "source": [
    "meyveler = ['erik', 'karpuz', 'kavun', 'kiraz', 'çilek', 'elma', 'armut']\n",
    "for index, meyve in enumerate(meyveler): #enumerate hem o listede ki elemanlara ulaşmayı hem de o listenin elemanların indexlerini kullanmamızı sağlar.\n",
    "    print(\"{}.indexte bulunan meyve: {}\".format(index, meyve))"
   ]
  }
 ],
 "metadata": {
  "kernelspec": {
   "display_name": "Python 3 (ipykernel)",
   "language": "python",
   "name": "python3"
  },
  "language_info": {
   "codemirror_mode": {
    "name": "ipython",
    "version": 3
   },
   "file_extension": ".py",
   "mimetype": "text/x-python",
   "name": "python",
   "nbconvert_exporter": "python",
   "pygments_lexer": "ipython3",
   "version": "3.12.4"
  }
 },
 "nbformat": 4,
 "nbformat_minor": 5
}
