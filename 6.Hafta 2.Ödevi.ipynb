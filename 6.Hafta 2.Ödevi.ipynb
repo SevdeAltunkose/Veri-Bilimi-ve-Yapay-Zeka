{
 "cells": [
  {
   "cell_type": "code",
   "execution_count": 6,
   "id": "52f4c2ca-7358-4fa7-98a7-c4637cbb418b",
   "metadata": {},
   "outputs": [],
   "source": [
    "sozluk = {\"Kategori\" : [\"Giyim\", \"Giyim\", \"Ayakkabı\", \"Aksesuar\", \"Ayakkabı\", \"Giyim\", \"Aksesuar\", \"Aksesuar\", \"Ayakkabı\", \"Giyim\"],\n",
    "         \"Ürün\" : [\"Kazak\", \"T-shirt\", \"Sandalet\", \"Küpe\", \"Spor Ayakkabı\", \"Pantolon\", \"Kolye\", \"Yüzük\", \"Çizme\", \"Ceket\"],\n",
    "         \"Fiyat\" : [300,180,450,50,700,400,150,80,850,900]}"
   ]
  },
  {
   "cell_type": "markdown",
   "id": "6d481779-9e7a-4ce9-9203-a6fc1fb597da",
   "metadata": {},
   "source": [
    "1) Yukardaki sözlüğü bir DataFrame haline getirin."
   ]
  },
  {
   "cell_type": "code",
   "execution_count": 4,
   "id": "d666622b-4db9-4cf5-921a-77a2628fe3df",
   "metadata": {},
   "outputs": [],
   "source": [
    "import pandas as pd"
   ]
  },
  {
   "cell_type": "code",
   "execution_count": 5,
   "id": "6cfd880e-90ba-41cd-95f7-b5a711df5393",
   "metadata": {},
   "outputs": [],
   "source": [
    "sozluk_df=pd.DataFrame(sozluk)"
   ]
  },
  {
   "cell_type": "code",
   "execution_count": 7,
   "id": "ec60c8ba-646c-4108-80e0-2a98399ca4eb",
   "metadata": {},
   "outputs": [
    {
     "data": {
      "text/html": [
       "<div>\n",
       "<style scoped>\n",
       "    .dataframe tbody tr th:only-of-type {\n",
       "        vertical-align: middle;\n",
       "    }\n",
       "\n",
       "    .dataframe tbody tr th {\n",
       "        vertical-align: top;\n",
       "    }\n",
       "\n",
       "    .dataframe thead th {\n",
       "        text-align: right;\n",
       "    }\n",
       "</style>\n",
       "<table border=\"1\" class=\"dataframe\">\n",
       "  <thead>\n",
       "    <tr style=\"text-align: right;\">\n",
       "      <th></th>\n",
       "      <th>Kategori</th>\n",
       "      <th>Ürün</th>\n",
       "      <th>Fiyat</th>\n",
       "    </tr>\n",
       "  </thead>\n",
       "  <tbody>\n",
       "    <tr>\n",
       "      <th>0</th>\n",
       "      <td>Giyim</td>\n",
       "      <td>Kazak</td>\n",
       "      <td>300</td>\n",
       "    </tr>\n",
       "    <tr>\n",
       "      <th>1</th>\n",
       "      <td>Giyim</td>\n",
       "      <td>T-shirt</td>\n",
       "      <td>180</td>\n",
       "    </tr>\n",
       "    <tr>\n",
       "      <th>2</th>\n",
       "      <td>Ayakkabı</td>\n",
       "      <td>Sandalet</td>\n",
       "      <td>450</td>\n",
       "    </tr>\n",
       "    <tr>\n",
       "      <th>3</th>\n",
       "      <td>Aksesuar</td>\n",
       "      <td>Küpe</td>\n",
       "      <td>50</td>\n",
       "    </tr>\n",
       "    <tr>\n",
       "      <th>4</th>\n",
       "      <td>Ayakkabı</td>\n",
       "      <td>Spor Ayakkabı</td>\n",
       "      <td>700</td>\n",
       "    </tr>\n",
       "    <tr>\n",
       "      <th>5</th>\n",
       "      <td>Giyim</td>\n",
       "      <td>Pantolon</td>\n",
       "      <td>400</td>\n",
       "    </tr>\n",
       "    <tr>\n",
       "      <th>6</th>\n",
       "      <td>Aksesuar</td>\n",
       "      <td>Kolye</td>\n",
       "      <td>150</td>\n",
       "    </tr>\n",
       "    <tr>\n",
       "      <th>7</th>\n",
       "      <td>Aksesuar</td>\n",
       "      <td>Yüzük</td>\n",
       "      <td>80</td>\n",
       "    </tr>\n",
       "    <tr>\n",
       "      <th>8</th>\n",
       "      <td>Ayakkabı</td>\n",
       "      <td>Çizme</td>\n",
       "      <td>850</td>\n",
       "    </tr>\n",
       "    <tr>\n",
       "      <th>9</th>\n",
       "      <td>Giyim</td>\n",
       "      <td>Ceket</td>\n",
       "      <td>900</td>\n",
       "    </tr>\n",
       "  </tbody>\n",
       "</table>\n",
       "</div>"
      ],
      "text/plain": [
       "   Kategori           Ürün  Fiyat\n",
       "0     Giyim          Kazak    300\n",
       "1     Giyim        T-shirt    180\n",
       "2  Ayakkabı       Sandalet    450\n",
       "3  Aksesuar           Küpe     50\n",
       "4  Ayakkabı  Spor Ayakkabı    700\n",
       "5     Giyim       Pantolon    400\n",
       "6  Aksesuar          Kolye    150\n",
       "7  Aksesuar          Yüzük     80\n",
       "8  Ayakkabı          Çizme    850\n",
       "9     Giyim          Ceket    900"
      ]
     },
     "execution_count": 7,
     "metadata": {},
     "output_type": "execute_result"
    }
   ],
   "source": [
    "sozluk_df"
   ]
  },
  {
   "cell_type": "markdown",
   "id": "7c3a53ed-749b-42b1-b07b-b4985ee701f0",
   "metadata": {},
   "source": [
    "2 ) Aşagıdaki işlemleri DataFrame üzerinde uygulayalım.\n",
    "  . 2.indexde bulunan kategoriyi bulalım(Sadece kategori bilgisi)\n",
    "  . 2.indexde bulunan ürünü bulalım(Sadece ürün bilgisi)\n",
    "  . 4.indexden 9.indexe kadar olan verileri bulalım(Kategori,ürün,fiyat bilgisi beraber)\n",
    "  . 1.indexden 6.indexe kadar olan ürünleri bulalım(Sadece ürün bilgisi)"
   ]
  },
  {
   "cell_type": "code",
   "execution_count": 22,
   "id": "42b49887-736f-47cf-858a-acbd636d38ff",
   "metadata": {},
   "outputs": [
    {
     "data": {
      "text/plain": [
       "'Ayakkabı'"
      ]
     },
     "execution_count": 22,
     "metadata": {},
     "output_type": "execute_result"
    }
   ],
   "source": [
    "sozluk_df.loc[2,\"Kategori\"] # loc : Etikete dayalı seçme işlemi gerçekleştirir. Seçmek istediğimiz satır ve sütunun adını belirtmek gerekir. \n",
    "                            #Seçimlerde verilen aralığın son elemanını içerir.\n",
    "sozluk_df.iloc[2,0]         # iloc : İndexe dayalı seçme işlemidir. Seçmek istenilen satur ve sütunun indexi belirtilir.\n",
    "                            #Indexe dayalı bir yöntem olduğundan belirtilen aralığın son öğesini içermez."
   ]
  },
  {
   "cell_type": "code",
   "execution_count": 9,
   "id": "2d2c564e-2c20-4c4b-9698-766a56d657f0",
   "metadata": {},
   "outputs": [
    {
     "data": {
      "text/plain": [
       "'Sandalet'"
      ]
     },
     "execution_count": 9,
     "metadata": {},
     "output_type": "execute_result"
    }
   ],
   "source": [
    "sozluk_df.loc[2,\"Ürün\"]\n",
    "sozluk_df.iloc[2,1]"
   ]
  },
  {
   "cell_type": "code",
   "execution_count": 16,
   "id": "cc56c63d-b26a-4342-9a0b-e28a747ace31",
   "metadata": {},
   "outputs": [
    {
     "data": {
      "text/html": [
       "<div>\n",
       "<style scoped>\n",
       "    .dataframe tbody tr th:only-of-type {\n",
       "        vertical-align: middle;\n",
       "    }\n",
       "\n",
       "    .dataframe tbody tr th {\n",
       "        vertical-align: top;\n",
       "    }\n",
       "\n",
       "    .dataframe thead th {\n",
       "        text-align: right;\n",
       "    }\n",
       "</style>\n",
       "<table border=\"1\" class=\"dataframe\">\n",
       "  <thead>\n",
       "    <tr style=\"text-align: right;\">\n",
       "      <th></th>\n",
       "      <th>Kategori</th>\n",
       "      <th>Ürün</th>\n",
       "      <th>Fiyat</th>\n",
       "    </tr>\n",
       "  </thead>\n",
       "  <tbody>\n",
       "    <tr>\n",
       "      <th>4</th>\n",
       "      <td>Ayakkabı</td>\n",
       "      <td>Spor Ayakkabı</td>\n",
       "      <td>700</td>\n",
       "    </tr>\n",
       "    <tr>\n",
       "      <th>5</th>\n",
       "      <td>Giyim</td>\n",
       "      <td>Pantolon</td>\n",
       "      <td>400</td>\n",
       "    </tr>\n",
       "    <tr>\n",
       "      <th>6</th>\n",
       "      <td>Aksesuar</td>\n",
       "      <td>Kolye</td>\n",
       "      <td>150</td>\n",
       "    </tr>\n",
       "    <tr>\n",
       "      <th>7</th>\n",
       "      <td>Aksesuar</td>\n",
       "      <td>Yüzük</td>\n",
       "      <td>80</td>\n",
       "    </tr>\n",
       "    <tr>\n",
       "      <th>8</th>\n",
       "      <td>Ayakkabı</td>\n",
       "      <td>Çizme</td>\n",
       "      <td>850</td>\n",
       "    </tr>\n",
       "  </tbody>\n",
       "</table>\n",
       "</div>"
      ],
      "text/plain": [
       "   Kategori           Ürün  Fiyat\n",
       "4  Ayakkabı  Spor Ayakkabı    700\n",
       "5     Giyim       Pantolon    400\n",
       "6  Aksesuar          Kolye    150\n",
       "7  Aksesuar          Yüzük     80\n",
       "8  Ayakkabı          Çizme    850"
      ]
     },
     "execution_count": 16,
     "metadata": {},
     "output_type": "execute_result"
    }
   ],
   "source": [
    "sozluk_df.iloc[4:9,:]\n",
    "sozluk_df.loc[4:8,\"Kategori\":\"Fiyat\"]"
   ]
  },
  {
   "cell_type": "code",
   "execution_count": 10,
   "id": "7e0c7531-40a7-4f54-9c59-2aef6936d0d9",
   "metadata": {},
   "outputs": [
    {
     "data": {
      "text/plain": [
       "1          T-shirt\n",
       "2         Sandalet\n",
       "3             Küpe\n",
       "4    Spor Ayakkabı\n",
       "5         Pantolon\n",
       "Name: Ürün, dtype: object"
      ]
     },
     "execution_count": 10,
     "metadata": {},
     "output_type": "execute_result"
    }
   ],
   "source": [
    "sozluk_df.iloc[1:6,1]\n",
    "sozluk_df.loc[1:5,\"Ürün\"]"
   ]
  },
  {
   "cell_type": "markdown",
   "id": "6a1f3e8f-cfd7-4729-8d05-6e80c62ccdd4",
   "metadata": {},
   "source": [
    "3) Yukarıdaki DataFrame için\n",
    "a) Giyim kategorisinde bulunan ürünler gösterilir.\n",
    "b) Ayakkabı kategorisinde bulunan ürünler gösterilir\n",
    "c) \n",
    "Aksesuar kategorisinde bulunan ürünler gösterilir."
   ]
  },
  {
   "cell_type": "code",
   "execution_count": 11,
   "id": "3569843e-cc68-43ff-8fa8-70b8b2895893",
   "metadata": {},
   "outputs": [
    {
     "data": {
      "text/html": [
       "<div>\n",
       "<style scoped>\n",
       "    .dataframe tbody tr th:only-of-type {\n",
       "        vertical-align: middle;\n",
       "    }\n",
       "\n",
       "    .dataframe tbody tr th {\n",
       "        vertical-align: top;\n",
       "    }\n",
       "\n",
       "    .dataframe thead th {\n",
       "        text-align: right;\n",
       "    }\n",
       "</style>\n",
       "<table border=\"1\" class=\"dataframe\">\n",
       "  <thead>\n",
       "    <tr style=\"text-align: right;\">\n",
       "      <th></th>\n",
       "      <th>Kategori</th>\n",
       "      <th>Ürün</th>\n",
       "      <th>Fiyat</th>\n",
       "    </tr>\n",
       "  </thead>\n",
       "  <tbody>\n",
       "    <tr>\n",
       "      <th>0</th>\n",
       "      <td>Giyim</td>\n",
       "      <td>Kazak</td>\n",
       "      <td>300</td>\n",
       "    </tr>\n",
       "    <tr>\n",
       "      <th>1</th>\n",
       "      <td>Giyim</td>\n",
       "      <td>T-shirt</td>\n",
       "      <td>180</td>\n",
       "    </tr>\n",
       "    <tr>\n",
       "      <th>2</th>\n",
       "      <td>Ayakkabı</td>\n",
       "      <td>Sandalet</td>\n",
       "      <td>450</td>\n",
       "    </tr>\n",
       "    <tr>\n",
       "      <th>3</th>\n",
       "      <td>Aksesuar</td>\n",
       "      <td>Küpe</td>\n",
       "      <td>50</td>\n",
       "    </tr>\n",
       "    <tr>\n",
       "      <th>4</th>\n",
       "      <td>Ayakkabı</td>\n",
       "      <td>Spor Ayakkabı</td>\n",
       "      <td>700</td>\n",
       "    </tr>\n",
       "    <tr>\n",
       "      <th>5</th>\n",
       "      <td>Giyim</td>\n",
       "      <td>Pantolon</td>\n",
       "      <td>400</td>\n",
       "    </tr>\n",
       "    <tr>\n",
       "      <th>6</th>\n",
       "      <td>Aksesuar</td>\n",
       "      <td>Kolye</td>\n",
       "      <td>150</td>\n",
       "    </tr>\n",
       "    <tr>\n",
       "      <th>7</th>\n",
       "      <td>Aksesuar</td>\n",
       "      <td>Yüzük</td>\n",
       "      <td>80</td>\n",
       "    </tr>\n",
       "    <tr>\n",
       "      <th>8</th>\n",
       "      <td>Ayakkabı</td>\n",
       "      <td>Çizme</td>\n",
       "      <td>850</td>\n",
       "    </tr>\n",
       "    <tr>\n",
       "      <th>9</th>\n",
       "      <td>Giyim</td>\n",
       "      <td>Ceket</td>\n",
       "      <td>900</td>\n",
       "    </tr>\n",
       "  </tbody>\n",
       "</table>\n",
       "</div>"
      ],
      "text/plain": [
       "   Kategori           Ürün  Fiyat\n",
       "0     Giyim          Kazak    300\n",
       "1     Giyim        T-shirt    180\n",
       "2  Ayakkabı       Sandalet    450\n",
       "3  Aksesuar           Küpe     50\n",
       "4  Ayakkabı  Spor Ayakkabı    700\n",
       "5     Giyim       Pantolon    400\n",
       "6  Aksesuar          Kolye    150\n",
       "7  Aksesuar          Yüzük     80\n",
       "8  Ayakkabı          Çizme    850\n",
       "9     Giyim          Ceket    900"
      ]
     },
     "execution_count": 11,
     "metadata": {},
     "output_type": "execute_result"
    }
   ],
   "source": [
    "sozluk_df"
   ]
  },
  {
   "cell_type": "code",
   "execution_count": 15,
   "id": "3aceb18d-68e8-4bfd-9f32-69eb65df65d9",
   "metadata": {},
   "outputs": [
    {
     "data": {
      "text/html": [
       "<div>\n",
       "<style scoped>\n",
       "    .dataframe tbody tr th:only-of-type {\n",
       "        vertical-align: middle;\n",
       "    }\n",
       "\n",
       "    .dataframe tbody tr th {\n",
       "        vertical-align: top;\n",
       "    }\n",
       "\n",
       "    .dataframe thead th {\n",
       "        text-align: right;\n",
       "    }\n",
       "</style>\n",
       "<table border=\"1\" class=\"dataframe\">\n",
       "  <thead>\n",
       "    <tr style=\"text-align: right;\">\n",
       "      <th></th>\n",
       "      <th>Ürün</th>\n",
       "    </tr>\n",
       "  </thead>\n",
       "  <tbody>\n",
       "    <tr>\n",
       "      <th>0</th>\n",
       "      <td>Kazak</td>\n",
       "    </tr>\n",
       "    <tr>\n",
       "      <th>1</th>\n",
       "      <td>T-shirt</td>\n",
       "    </tr>\n",
       "    <tr>\n",
       "      <th>5</th>\n",
       "      <td>Pantolon</td>\n",
       "    </tr>\n",
       "    <tr>\n",
       "      <th>9</th>\n",
       "      <td>Ceket</td>\n",
       "    </tr>\n",
       "  </tbody>\n",
       "</table>\n",
       "</div>"
      ],
      "text/plain": [
       "       Ürün\n",
       "0     Kazak\n",
       "1   T-shirt\n",
       "5  Pantolon\n",
       "9     Ceket"
      ]
     },
     "execution_count": 15,
     "metadata": {},
     "output_type": "execute_result"
    }
   ],
   "source": [
    "sozluk_df[sozluk_df[\"Kategori\"]==\"Giyim\"][[\"Ürün\"]]"
   ]
  },
  {
   "cell_type": "code",
   "execution_count": 16,
   "id": "685137aa-d3b7-4e58-bb42-6c36dc3bfdf8",
   "metadata": {},
   "outputs": [
    {
     "data": {
      "text/html": [
       "<div>\n",
       "<style scoped>\n",
       "    .dataframe tbody tr th:only-of-type {\n",
       "        vertical-align: middle;\n",
       "    }\n",
       "\n",
       "    .dataframe tbody tr th {\n",
       "        vertical-align: top;\n",
       "    }\n",
       "\n",
       "    .dataframe thead th {\n",
       "        text-align: right;\n",
       "    }\n",
       "</style>\n",
       "<table border=\"1\" class=\"dataframe\">\n",
       "  <thead>\n",
       "    <tr style=\"text-align: right;\">\n",
       "      <th></th>\n",
       "      <th>Ürün</th>\n",
       "    </tr>\n",
       "  </thead>\n",
       "  <tbody>\n",
       "    <tr>\n",
       "      <th>2</th>\n",
       "      <td>Sandalet</td>\n",
       "    </tr>\n",
       "    <tr>\n",
       "      <th>4</th>\n",
       "      <td>Spor Ayakkabı</td>\n",
       "    </tr>\n",
       "    <tr>\n",
       "      <th>8</th>\n",
       "      <td>Çizme</td>\n",
       "    </tr>\n",
       "  </tbody>\n",
       "</table>\n",
       "</div>"
      ],
      "text/plain": [
       "            Ürün\n",
       "2       Sandalet\n",
       "4  Spor Ayakkabı\n",
       "8          Çizme"
      ]
     },
     "execution_count": 16,
     "metadata": {},
     "output_type": "execute_result"
    }
   ],
   "source": [
    "sozluk_df[sozluk_df[\"Kategori\"]==\"Ayakkabı\"][[\"Ürün\"]]"
   ]
  },
  {
   "cell_type": "code",
   "execution_count": 17,
   "id": "8c72ceaf-47d3-4950-8845-0c6889198d52",
   "metadata": {},
   "outputs": [
    {
     "data": {
      "text/html": [
       "<div>\n",
       "<style scoped>\n",
       "    .dataframe tbody tr th:only-of-type {\n",
       "        vertical-align: middle;\n",
       "    }\n",
       "\n",
       "    .dataframe tbody tr th {\n",
       "        vertical-align: top;\n",
       "    }\n",
       "\n",
       "    .dataframe thead th {\n",
       "        text-align: right;\n",
       "    }\n",
       "</style>\n",
       "<table border=\"1\" class=\"dataframe\">\n",
       "  <thead>\n",
       "    <tr style=\"text-align: right;\">\n",
       "      <th></th>\n",
       "      <th>Ürün</th>\n",
       "    </tr>\n",
       "  </thead>\n",
       "  <tbody>\n",
       "    <tr>\n",
       "      <th>3</th>\n",
       "      <td>Küpe</td>\n",
       "    </tr>\n",
       "    <tr>\n",
       "      <th>6</th>\n",
       "      <td>Kolye</td>\n",
       "    </tr>\n",
       "    <tr>\n",
       "      <th>7</th>\n",
       "      <td>Yüzük</td>\n",
       "    </tr>\n",
       "  </tbody>\n",
       "</table>\n",
       "</div>"
      ],
      "text/plain": [
       "    Ürün\n",
       "3   Küpe\n",
       "6  Kolye\n",
       "7  Yüzük"
      ]
     },
     "execution_count": 17,
     "metadata": {},
     "output_type": "execute_result"
    }
   ],
   "source": [
    "sozluk_df[sozluk_df[\"Kategori\"]==\"Aksesuar\"][[\"Ürün\"]]"
   ]
  },
  {
   "cell_type": "markdown",
   "id": "83254eff-ae3a-4831-9085-aa64347aed48",
   "metadata": {},
   "source": [
    "4) Yukarıdaki DataFrame için \r\n",
    "a) \n",
    " Giyim kategorisinde fiyatı 300'den fazla olan ürünler gösterilir.b) \r\n",
    " Ayakkabı kategorisinde fiyatı 600'den az olan ürünler gösterilirc)  \r\n",
    " Aksesuar kategorisinde fiyatı 100'den fazla olan aksesuar gösterilir."
   ]
  },
  {
   "cell_type": "code",
   "execution_count": 18,
   "id": "d4ee8f9a-0b20-4fad-9f75-bc1641b1572a",
   "metadata": {},
   "outputs": [
    {
     "data": {
      "text/html": [
       "<div>\n",
       "<style scoped>\n",
       "    .dataframe tbody tr th:only-of-type {\n",
       "        vertical-align: middle;\n",
       "    }\n",
       "\n",
       "    .dataframe tbody tr th {\n",
       "        vertical-align: top;\n",
       "    }\n",
       "\n",
       "    .dataframe thead th {\n",
       "        text-align: right;\n",
       "    }\n",
       "</style>\n",
       "<table border=\"1\" class=\"dataframe\">\n",
       "  <thead>\n",
       "    <tr style=\"text-align: right;\">\n",
       "      <th></th>\n",
       "      <th>Kategori</th>\n",
       "      <th>Ürün</th>\n",
       "      <th>Fiyat</th>\n",
       "    </tr>\n",
       "  </thead>\n",
       "  <tbody>\n",
       "    <tr>\n",
       "      <th>0</th>\n",
       "      <td>Giyim</td>\n",
       "      <td>Kazak</td>\n",
       "      <td>300</td>\n",
       "    </tr>\n",
       "    <tr>\n",
       "      <th>1</th>\n",
       "      <td>Giyim</td>\n",
       "      <td>T-shirt</td>\n",
       "      <td>180</td>\n",
       "    </tr>\n",
       "    <tr>\n",
       "      <th>2</th>\n",
       "      <td>Ayakkabı</td>\n",
       "      <td>Sandalet</td>\n",
       "      <td>450</td>\n",
       "    </tr>\n",
       "    <tr>\n",
       "      <th>3</th>\n",
       "      <td>Aksesuar</td>\n",
       "      <td>Küpe</td>\n",
       "      <td>50</td>\n",
       "    </tr>\n",
       "    <tr>\n",
       "      <th>4</th>\n",
       "      <td>Ayakkabı</td>\n",
       "      <td>Spor Ayakkabı</td>\n",
       "      <td>700</td>\n",
       "    </tr>\n",
       "    <tr>\n",
       "      <th>5</th>\n",
       "      <td>Giyim</td>\n",
       "      <td>Pantolon</td>\n",
       "      <td>400</td>\n",
       "    </tr>\n",
       "    <tr>\n",
       "      <th>6</th>\n",
       "      <td>Aksesuar</td>\n",
       "      <td>Kolye</td>\n",
       "      <td>150</td>\n",
       "    </tr>\n",
       "    <tr>\n",
       "      <th>7</th>\n",
       "      <td>Aksesuar</td>\n",
       "      <td>Yüzük</td>\n",
       "      <td>80</td>\n",
       "    </tr>\n",
       "    <tr>\n",
       "      <th>8</th>\n",
       "      <td>Ayakkabı</td>\n",
       "      <td>Çizme</td>\n",
       "      <td>850</td>\n",
       "    </tr>\n",
       "    <tr>\n",
       "      <th>9</th>\n",
       "      <td>Giyim</td>\n",
       "      <td>Ceket</td>\n",
       "      <td>900</td>\n",
       "    </tr>\n",
       "  </tbody>\n",
       "</table>\n",
       "</div>"
      ],
      "text/plain": [
       "   Kategori           Ürün  Fiyat\n",
       "0     Giyim          Kazak    300\n",
       "1     Giyim        T-shirt    180\n",
       "2  Ayakkabı       Sandalet    450\n",
       "3  Aksesuar           Küpe     50\n",
       "4  Ayakkabı  Spor Ayakkabı    700\n",
       "5     Giyim       Pantolon    400\n",
       "6  Aksesuar          Kolye    150\n",
       "7  Aksesuar          Yüzük     80\n",
       "8  Ayakkabı          Çizme    850\n",
       "9     Giyim          Ceket    900"
      ]
     },
     "execution_count": 18,
     "metadata": {},
     "output_type": "execute_result"
    }
   ],
   "source": [
    "sozluk_df"
   ]
  },
  {
   "cell_type": "code",
   "execution_count": 19,
   "id": "23b23908-f4cd-4f9b-9345-4ca0560ef2f1",
   "metadata": {},
   "outputs": [
    {
     "data": {
      "text/html": [
       "<div>\n",
       "<style scoped>\n",
       "    .dataframe tbody tr th:only-of-type {\n",
       "        vertical-align: middle;\n",
       "    }\n",
       "\n",
       "    .dataframe tbody tr th {\n",
       "        vertical-align: top;\n",
       "    }\n",
       "\n",
       "    .dataframe thead th {\n",
       "        text-align: right;\n",
       "    }\n",
       "</style>\n",
       "<table border=\"1\" class=\"dataframe\">\n",
       "  <thead>\n",
       "    <tr style=\"text-align: right;\">\n",
       "      <th></th>\n",
       "      <th>Kategori</th>\n",
       "      <th>Ürün</th>\n",
       "      <th>Fiyat</th>\n",
       "    </tr>\n",
       "  </thead>\n",
       "  <tbody>\n",
       "    <tr>\n",
       "      <th>5</th>\n",
       "      <td>Giyim</td>\n",
       "      <td>Pantolon</td>\n",
       "      <td>400</td>\n",
       "    </tr>\n",
       "    <tr>\n",
       "      <th>9</th>\n",
       "      <td>Giyim</td>\n",
       "      <td>Ceket</td>\n",
       "      <td>900</td>\n",
       "    </tr>\n",
       "  </tbody>\n",
       "</table>\n",
       "</div>"
      ],
      "text/plain": [
       "  Kategori      Ürün  Fiyat\n",
       "5    Giyim  Pantolon    400\n",
       "9    Giyim     Ceket    900"
      ]
     },
     "execution_count": 19,
     "metadata": {},
     "output_type": "execute_result"
    }
   ],
   "source": [
    "sozluk_df[(sozluk_df[\"Kategori\"]==\"Giyim\") & (sozluk_df[\"Fiyat\"] > 300)]"
   ]
  },
  {
   "cell_type": "code",
   "execution_count": 20,
   "id": "14ba9d39-8b04-4fde-868f-6129a0ec5e4e",
   "metadata": {},
   "outputs": [
    {
     "data": {
      "text/html": [
       "<div>\n",
       "<style scoped>\n",
       "    .dataframe tbody tr th:only-of-type {\n",
       "        vertical-align: middle;\n",
       "    }\n",
       "\n",
       "    .dataframe tbody tr th {\n",
       "        vertical-align: top;\n",
       "    }\n",
       "\n",
       "    .dataframe thead th {\n",
       "        text-align: right;\n",
       "    }\n",
       "</style>\n",
       "<table border=\"1\" class=\"dataframe\">\n",
       "  <thead>\n",
       "    <tr style=\"text-align: right;\">\n",
       "      <th></th>\n",
       "      <th>Kategori</th>\n",
       "      <th>Ürün</th>\n",
       "      <th>Fiyat</th>\n",
       "    </tr>\n",
       "  </thead>\n",
       "  <tbody>\n",
       "    <tr>\n",
       "      <th>2</th>\n",
       "      <td>Ayakkabı</td>\n",
       "      <td>Sandalet</td>\n",
       "      <td>450</td>\n",
       "    </tr>\n",
       "  </tbody>\n",
       "</table>\n",
       "</div>"
      ],
      "text/plain": [
       "   Kategori      Ürün  Fiyat\n",
       "2  Ayakkabı  Sandalet    450"
      ]
     },
     "execution_count": 20,
     "metadata": {},
     "output_type": "execute_result"
    }
   ],
   "source": [
    "sozluk_df[(sozluk_df[\"Kategori\"]==\"Ayakkabı\") & (sozluk_df[\"Fiyat\"] < 600)]"
   ]
  },
  {
   "cell_type": "code",
   "execution_count": 21,
   "id": "f843ed04-9c75-4c01-8c08-c02aa73f19b4",
   "metadata": {},
   "outputs": [
    {
     "data": {
      "text/html": [
       "<div>\n",
       "<style scoped>\n",
       "    .dataframe tbody tr th:only-of-type {\n",
       "        vertical-align: middle;\n",
       "    }\n",
       "\n",
       "    .dataframe tbody tr th {\n",
       "        vertical-align: top;\n",
       "    }\n",
       "\n",
       "    .dataframe thead th {\n",
       "        text-align: right;\n",
       "    }\n",
       "</style>\n",
       "<table border=\"1\" class=\"dataframe\">\n",
       "  <thead>\n",
       "    <tr style=\"text-align: right;\">\n",
       "      <th></th>\n",
       "      <th>Kategori</th>\n",
       "      <th>Ürün</th>\n",
       "      <th>Fiyat</th>\n",
       "    </tr>\n",
       "  </thead>\n",
       "  <tbody>\n",
       "    <tr>\n",
       "      <th>6</th>\n",
       "      <td>Aksesuar</td>\n",
       "      <td>Kolye</td>\n",
       "      <td>150</td>\n",
       "    </tr>\n",
       "  </tbody>\n",
       "</table>\n",
       "</div>"
      ],
      "text/plain": [
       "   Kategori   Ürün  Fiyat\n",
       "6  Aksesuar  Kolye    150"
      ]
     },
     "execution_count": 21,
     "metadata": {},
     "output_type": "execute_result"
    }
   ],
   "source": [
    "sozluk_df[(sozluk_df[\"Kategori\"]==\"Aksesuar\") & (sozluk_df[\"Fiyat\"] > 100)]"
   ]
  }
 ],
 "metadata": {
  "kernelspec": {
   "display_name": "Python 3 (ipykernel)",
   "language": "python",
   "name": "python3"
  },
  "language_info": {
   "codemirror_mode": {
    "name": "ipython",
    "version": 3
   },
   "file_extension": ".py",
   "mimetype": "text/x-python",
   "name": "python",
   "nbconvert_exporter": "python",
   "pygments_lexer": "ipython3",
   "version": "3.12.4"
  }
 },
 "nbformat": 4,
 "nbformat_minor": 5
}
