{
 "cells": [
  {
   "cell_type": "code",
   "execution_count": 1,
   "id": "7e8da257-edc7-4931-9cb3-96049755d923",
   "metadata": {},
   "outputs": [
    {
     "name": "stdout",
     "output_type": "stream",
     "text": [
      "Defaulting to user installation because normal site-packages is not writeable\n",
      "Requirement already satisfied: numpy in c:\\programdata\\anaconda3\\lib\\site-packages (1.26.4)\n"
     ]
    }
   ],
   "source": [
    "!pip install numpy"
   ]
  },
  {
   "cell_type": "code",
   "execution_count": 2,
   "id": "87fd78b0-c0bf-4723-936b-c7380355e326",
   "metadata": {},
   "outputs": [],
   "source": [
    "import numpy as np"
   ]
  },
  {
   "cell_type": "markdown",
   "id": "f62cbc19-64a8-4ead-a41d-2659ce395c73",
   "metadata": {},
   "source": [
    "1) Sayılardan oluşan bir boyutlu array oluşturulur. Arrayi oluştururken sayıların veri tipini integer olarak belirtilir. Oluşturulan arrayin boyut, eleman sayısı bilgilerine bakılır."
   ]
  },
  {
   "cell_type": "code",
   "execution_count": 7,
   "id": "695aa755-4f12-4551-853e-c2a0a17f5e71",
   "metadata": {},
   "outputs": [
    {
     "name": "stdout",
     "output_type": "stream",
     "text": [
      "[ 1  3  5  7  9 11 13 15 17 19 21]\n"
     ]
    }
   ],
   "source": [
    "array1 = np.array([1, 3.2, 5, 7, 9.6, 11, 13.8, 15, 17, 19.1, 21],dtype = \"int\")\n",
    "print(array1)"
   ]
  },
  {
   "cell_type": "code",
   "execution_count": 11,
   "id": "240a4d1e-9d6a-4252-b09b-bf967a879e9f",
   "metadata": {},
   "outputs": [
    {
     "name": "stdout",
     "output_type": "stream",
     "text": [
      "1\n"
     ]
    }
   ],
   "source": [
    "array1 = np.array([1, 3.2, 5, 7, 9.6, 11, 13.8, 15, 17, 19.1, 21])\n",
    "\n",
    "print(array1.ndim)  # .ndim : NumPy array'inin kaç boyuttan oluştuğunu belirtir.\n",
    "                    # Bu, array'in yapısının derinliğini anlamamıza yardımcı olur."
   ]
  },
  {
   "cell_type": "code",
   "execution_count": 12,
   "id": "ace20dab-1208-41ba-8686-0c71367be80f",
   "metadata": {},
   "outputs": [
    {
     "name": "stdout",
     "output_type": "stream",
     "text": [
      "11\n"
     ]
    }
   ],
   "source": [
    "print(array1.size)  # size : Array'da bulunan eleman sayısını verir."
   ]
  },
  {
   "cell_type": "markdown",
   "id": "2e4264c4-4776-4868-949c-c890d2efbd3a",
   "metadata": {},
   "source": [
    "2) İki ve üç boyutlu arrayler oluşturulur. Bu arraylerin boyut, eleman sayısı, satır, sütun bilgilerine ulaşılır. Arrayler üzerinde indexleme ve dilimleme(slicing) işlemi yapılır."
   ]
  },
  {
   "cell_type": "code",
   "execution_count": 13,
   "id": "ebabbb24-e0bd-42d7-a31a-1a09a029ef46",
   "metadata": {},
   "outputs": [
    {
     "name": "stdout",
     "output_type": "stream",
     "text": [
      "[[9 8 7 5]\n",
      " [1 2 3 0]]\n"
     ]
    }
   ],
   "source": [
    "array2 = np.array([[9,8,7,5],[1,2,3,0]])\n",
    "print(array2)"
   ]
  },
  {
   "cell_type": "code",
   "execution_count": 23,
   "id": "d1cf0f0b-36f9-4df2-a111-26799d9fe1a7",
   "metadata": {},
   "outputs": [
    {
     "name": "stdout",
     "output_type": "stream",
     "text": [
      "2\n"
     ]
    }
   ],
   "source": [
    "array2 = np.array([[9,8,7,5],[1,2,3,0]])\n",
    "print(array2.ndim)    # .ndim : NumPy array'inin kaç boyuttan oluştuğunu belirtir."
   ]
  },
  {
   "cell_type": "code",
   "execution_count": 24,
   "id": "45b57741-5096-4aea-af57-44a3003cc773",
   "metadata": {},
   "outputs": [
    {
     "name": "stdout",
     "output_type": "stream",
     "text": [
      "8\n"
     ]
    }
   ],
   "source": [
    "print(array2.size)    # size : Array'da bulunan eleman sayısını verir."
   ]
  },
  {
   "cell_type": "code",
   "execution_count": 17,
   "id": "12884172-21d2-4efd-ba0c-041e6a14dc73",
   "metadata": {},
   "outputs": [
    {
     "name": "stdout",
     "output_type": "stream",
     "text": [
      "[[9 8 7 5]\n",
      " [1 2 3 0]]\n",
      "(2, 4)\n"
     ]
    }
   ],
   "source": [
    "print(array2)\n",
    "print(array2.shape)  # shape metodu, dizinin boyutlarını (satır ve sütun sayısını) döndürür.\n",
    "                     # Burda 2 satır ve 4 sütundan oluşmuştur."
   ]
  },
  {
   "cell_type": "code",
   "execution_count": 18,
   "id": "2216745d-52bb-4e96-badf-5cf00f4e022f",
   "metadata": {},
   "outputs": [
    {
     "data": {
      "text/plain": [
       "3"
      ]
     },
     "execution_count": 18,
     "metadata": {},
     "output_type": "execute_result"
    }
   ],
   "source": [
    "#2.satırdaki 3.elemana ulaşalım.\n",
    "array2[1,2]"
   ]
  },
  {
   "cell_type": "code",
   "execution_count": 19,
   "id": "c6468adb-9465-47ef-a2a6-a76198d3bf27",
   "metadata": {},
   "outputs": [
    {
     "data": {
      "text/plain": [
       "5"
      ]
     },
     "execution_count": 19,
     "metadata": {},
     "output_type": "execute_result"
    }
   ],
   "source": [
    "#1.satırdaki 4.elemana ulaşalım.\n",
    "array2[0,3]"
   ]
  },
  {
   "cell_type": "code",
   "execution_count": 21,
   "id": "6157924c-c000-433e-b0cd-fd16b9a4de52",
   "metadata": {},
   "outputs": [
    {
     "data": {
      "text/plain": [
       "array([[8, 7],\n",
       "       [2, 3]])"
      ]
     },
     "execution_count": 21,
     "metadata": {},
     "output_type": "execute_result"
    }
   ],
   "source": [
    "# 8,7,2,3 dilimleme yaparak bu sayıları yazdıralım.\n",
    "array2[0:2,1:3]\n"
   ]
  },
  {
   "cell_type": "code",
   "execution_count": 22,
   "id": "2b1358d4-dd46-4678-b7c8-0499b021dd21",
   "metadata": {},
   "outputs": [
    {
     "data": {
      "text/plain": [
       "array([5, 0])"
      ]
     },
     "execution_count": 22,
     "metadata": {},
     "output_type": "execute_result"
    }
   ],
   "source": [
    "#5,0 dilimleme yaparak bu sayıları yazdıralım.\n",
    "array2[:,3]"
   ]
  },
  {
   "cell_type": "code",
   "execution_count": 32,
   "id": "2a092cb8-6a1d-4463-abba-85f72fd7f711",
   "metadata": {},
   "outputs": [
    {
     "name": "stdout",
     "output_type": "stream",
     "text": [
      "[[[5 3 7]\n",
      "  [8 1 7]]\n",
      "\n",
      " [[4 5 6]\n",
      "  [4 6 8]]]\n"
     ]
    }
   ],
   "source": [
    "# 3 Boyutlu Dizi (3-D Array)\n",
    "\n",
    "array3 = np.array([[[5,3,7],[8,1,7]],\n",
    "            [[4,5,6],[4,6,8]]])\n",
    "\n",
    "print(array3)"
   ]
  },
  {
   "cell_type": "code",
   "execution_count": 44,
   "id": "84353e5e-98aa-47e2-b357-9c5e88415df7",
   "metadata": {},
   "outputs": [
    {
     "name": "stdout",
     "output_type": "stream",
     "text": [
      "3\n"
     ]
    }
   ],
   "source": [
    "array3 = np.array([[[5,3,7],[8,1,7]],\n",
    "            [[4,5,6],[4,6,8]]])\n",
    "\n",
    "print(array3.ndim)    # .ndim : NumPy array'inin kaç boyuttan oluştuğunu belirtir."
   ]
  },
  {
   "cell_type": "code",
   "execution_count": 45,
   "id": "26cba696-2945-4a49-8720-6736785cbc4a",
   "metadata": {},
   "outputs": [
    {
     "name": "stdout",
     "output_type": "stream",
     "text": [
      "12\n"
     ]
    }
   ],
   "source": [
    "print(array3.size)    # size : Array'da bulunan eleman sayısını verir."
   ]
  },
  {
   "cell_type": "code",
   "execution_count": 46,
   "id": "8756f3f6-7f4a-42e4-b7d8-7d9874a0d162",
   "metadata": {},
   "outputs": [
    {
     "name": "stdout",
     "output_type": "stream",
     "text": [
      "[[[5 3 7]\n",
      "  [8 1 7]]\n",
      "\n",
      " [[4 5 6]\n",
      "  [4 6 8]]]\n",
      "(2, 2, 3)\n"
     ]
    }
   ],
   "source": [
    "print(array3)\n",
    "print(array3.shape)   # shape metodu, dizinin boyutlarını (satır ve sütun sayısını) döndürür."
   ]
  },
  {
   "cell_type": "code",
   "execution_count": 36,
   "id": "42364976-7d66-4e62-8769-bb8b7746bc45",
   "metadata": {},
   "outputs": [
    {
     "data": {
      "text/plain": [
       "1"
      ]
     },
     "execution_count": 36,
     "metadata": {},
     "output_type": "execute_result"
    }
   ],
   "source": [
    "#1.katmandaki 2.satırdaki 2. elemana ulaşalım.\n",
    "array3[0,1,1]"
   ]
  },
  {
   "cell_type": "code",
   "execution_count": 37,
   "id": "a9199e55-02de-4d9c-9bfa-d095fffe8206",
   "metadata": {},
   "outputs": [
    {
     "data": {
      "text/plain": [
       "6"
      ]
     },
     "execution_count": 37,
     "metadata": {},
     "output_type": "execute_result"
    }
   ],
   "source": [
    "#2.katmandaki 1.satırdaki 3. elemana ulaşalım.\n",
    "array3[1,0,2]"
   ]
  },
  {
   "cell_type": "code",
   "execution_count": 42,
   "id": "759d377d-badc-4c9a-bb48-18ae2640f7f7",
   "metadata": {},
   "outputs": [
    {
     "data": {
      "text/plain": [
       "array([[6],\n",
       "       [8]])"
      ]
     },
     "execution_count": 42,
     "metadata": {},
     "output_type": "execute_result"
    }
   ],
   "source": [
    "# 6,8 sayılarını dilimleme yaparak yazdıralım.\n",
    "array3[1,:,2:3]"
   ]
  },
  {
   "cell_type": "code",
   "execution_count": 43,
   "id": "aabfe985-2b97-431b-bf87-65900b2c3b56",
   "metadata": {},
   "outputs": [
    {
     "data": {
      "text/plain": [
       "array([[[3],\n",
       "        [1]],\n",
       "\n",
       "       [[5],\n",
       "        [6]]])"
      ]
     },
     "execution_count": 43,
     "metadata": {},
     "output_type": "execute_result"
    }
   ],
   "source": [
    "# 3,1,5,6 sayılarını dilimleme yaparak yazdıralım.\n",
    "array3[:,:,1:2]"
   ]
  },
  {
   "cell_type": "markdown",
   "id": "8e0d8777-d407-4239-a231-1b05a83dcd58",
   "metadata": {},
   "source": [
    "3) Numpy fonksiyonu kullanarak bir, iki ve üç boyutlu arrayler oluşturulur. Arrayler üzerinde indexleme ve dilimleme(slicing) işlemi yapılır."
   ]
  },
  {
   "cell_type": "code",
   "execution_count": 47,
   "id": "685d8c0b-7f6b-42c8-be41-4d5ff9ab3241",
   "metadata": {},
   "outputs": [
    {
     "name": "stdout",
     "output_type": "stream",
     "text": [
      "[0 5 8 6 7 2]\n"
     ]
    }
   ],
   "source": [
    "array4 =np.array([0,5,8,6,7,2])\n",
    "print(array4)"
   ]
  },
  {
   "cell_type": "code",
   "execution_count": 48,
   "id": "69861e2a-1a44-4650-93f4-367974896d2f",
   "metadata": {},
   "outputs": [
    {
     "data": {
      "text/plain": [
       "7"
      ]
     },
     "execution_count": 48,
     "metadata": {},
     "output_type": "execute_result"
    }
   ],
   "source": [
    "array4[4]"
   ]
  },
  {
   "cell_type": "code",
   "execution_count": 49,
   "id": "9f5402e1-b5ee-4bbd-8ac6-42a28527d60e",
   "metadata": {},
   "outputs": [
    {
     "data": {
      "text/plain": [
       "2"
      ]
     },
     "execution_count": 49,
     "metadata": {},
     "output_type": "execute_result"
    }
   ],
   "source": [
    "array4[-1]"
   ]
  },
  {
   "cell_type": "code",
   "execution_count": 50,
   "id": "0f2e7e12-7c89-4541-8302-67a5028a5651",
   "metadata": {},
   "outputs": [
    {
     "data": {
      "text/plain": [
       "array([5, 8])"
      ]
     },
     "execution_count": 50,
     "metadata": {},
     "output_type": "execute_result"
    }
   ],
   "source": [
    "array4[1:3]"
   ]
  },
  {
   "cell_type": "code",
   "execution_count": 51,
   "id": "c414982d-2c9d-4633-8e75-d08cdae90ec0",
   "metadata": {},
   "outputs": [
    {
     "data": {
      "text/plain": [
       "array([6, 7, 2])"
      ]
     },
     "execution_count": 51,
     "metadata": {},
     "output_type": "execute_result"
    }
   ],
   "source": [
    "array4[3:]"
   ]
  },
  {
   "cell_type": "code",
   "execution_count": 53,
   "id": "ab21afde-9c5a-4935-bdc9-26305f027e71",
   "metadata": {},
   "outputs": [
    {
     "name": "stdout",
     "output_type": "stream",
     "text": [
      "[[3 8 0]\n",
      " [9 7 3]\n",
      " [4 6 2]]\n"
     ]
    }
   ],
   "source": [
    "array5 = np.array([[3,8,0],[9,7,3],[4,6,2]])\n",
    "print(array5)"
   ]
  },
  {
   "cell_type": "code",
   "execution_count": 54,
   "id": "417f1a7d-1af4-447c-a7ed-20d7e00fb518",
   "metadata": {},
   "outputs": [
    {
     "data": {
      "text/plain": [
       "3"
      ]
     },
     "execution_count": 54,
     "metadata": {},
     "output_type": "execute_result"
    }
   ],
   "source": [
    "# 2. satırdaki 3.elemana ulaşalım\n",
    "array5[1,2]"
   ]
  },
  {
   "cell_type": "code",
   "execution_count": 55,
   "id": "0cc3a0ce-980e-4e15-b394-a9d590cb0fbe",
   "metadata": {},
   "outputs": [
    {
     "data": {
      "text/plain": [
       "4"
      ]
     },
     "execution_count": 55,
     "metadata": {},
     "output_type": "execute_result"
    }
   ],
   "source": [
    "# 3. satırdaki 1.elemana ulaşalım.\n",
    "array5[2,0]"
   ]
  },
  {
   "cell_type": "code",
   "execution_count": 61,
   "id": "587450fe-6003-4892-8455-cc6efedfc474",
   "metadata": {},
   "outputs": [
    {
     "data": {
      "text/plain": [
       "array([0, 3, 2])"
      ]
     },
     "execution_count": 61,
     "metadata": {},
     "output_type": "execute_result"
    }
   ],
   "source": [
    "# 0,3,2 sayılarını dilimleme yaparak yazdıralım.\n",
    "array5[0:3,2]"
   ]
  },
  {
   "cell_type": "code",
   "execution_count": 66,
   "id": "f84b94fe-9659-4974-a522-2746340e50ac",
   "metadata": {},
   "outputs": [
    {
     "data": {
      "text/plain": [
       "array([[9, 7],\n",
       "       [4, 6]])"
      ]
     },
     "execution_count": 66,
     "metadata": {},
     "output_type": "execute_result"
    }
   ],
   "source": [
    "# 9,4,7,6 sayılarını dilimleme yaparak yazdıralım.\n",
    "array5[1:3,0:2]"
   ]
  },
  {
   "cell_type": "code",
   "execution_count": 67,
   "id": "9dcde75d-6920-4ef7-815f-e31083e7e2c3",
   "metadata": {},
   "outputs": [
    {
     "name": "stdout",
     "output_type": "stream",
     "text": [
      "[[[1 9 3]\n",
      "  [2 9 8]]\n",
      "\n",
      " [[2 8 7]\n",
      "  [1 0 5]]]\n"
     ]
    }
   ],
   "source": [
    "array6 = np.array([[[1,9,3],[2,9,8]],\n",
    "                   [[2,8,7],[1,0,5]]])\n",
    "print(array6)"
   ]
  },
  {
   "cell_type": "code",
   "execution_count": 68,
   "id": "4316f161-a632-4eb3-ad18-067232498fda",
   "metadata": {},
   "outputs": [
    {
     "data": {
      "text/plain": [
       "2"
      ]
     },
     "execution_count": 68,
     "metadata": {},
     "output_type": "execute_result"
    }
   ],
   "source": [
    "#1. katmandaki 2.satırdaki 1. elemana ulaşalım.\n",
    "array6[0,1,0]"
   ]
  },
  {
   "cell_type": "code",
   "execution_count": 69,
   "id": "e8c53a6f-ad2b-4d0a-827f-c41c7d615eaf",
   "metadata": {},
   "outputs": [
    {
     "data": {
      "text/plain": [
       "7"
      ]
     },
     "execution_count": 69,
     "metadata": {},
     "output_type": "execute_result"
    }
   ],
   "source": [
    "#2.katmandaki 1.satırdaki 3.elemana ulaşalım.\n",
    "array6[1,0,2]"
   ]
  },
  {
   "cell_type": "code",
   "execution_count": 70,
   "id": "becdb822-6b56-4935-9e8f-4d4d8f9061f3",
   "metadata": {},
   "outputs": [
    {
     "data": {
      "text/plain": [
       "array([2, 9, 8])"
      ]
     },
     "execution_count": 70,
     "metadata": {},
     "output_type": "execute_result"
    }
   ],
   "source": [
    "#2,9,8 sayılarını dilimleme kullanarak yazdıralım.\n",
    "array6[0,1,0:3]"
   ]
  },
  {
   "cell_type": "code",
   "execution_count": 71,
   "id": "e21961c3-aba9-4dd9-a943-f8fc7f825ec4",
   "metadata": {},
   "outputs": [
    {
     "data": {
      "text/plain": [
       "array([[[3],\n",
       "        [8]],\n",
       "\n",
       "       [[7],\n",
       "        [5]]])"
      ]
     },
     "execution_count": 71,
     "metadata": {},
     "output_type": "execute_result"
    }
   ],
   "source": [
    "#3,8,7,5 sayılarını dilimleme kullanacak yazdıralım.\n",
    "array6[:,:,2:3]"
   ]
  },
  {
   "cell_type": "markdown",
   "id": "b889af81-4352-45ac-b5ae-47616cd70837",
   "metadata": {},
   "source": [
    "4) Sıfırlardan oluşan ve birlerden oluşan iki tane iki boyutlu array oluşturulur. Bu arrayler satır ve sütun bazında birleştirilir. "
   ]
  },
  {
   "cell_type": "code",
   "execution_count": 82,
   "id": "973a21bd-f2ad-4fce-bf83-af7e52b20c2a",
   "metadata": {},
   "outputs": [
    {
     "name": "stdout",
     "output_type": "stream",
     "text": [
      "[[0 0 0 0]\n",
      " [0 0 0 0]\n",
      " [0 0 0 0]]\n"
     ]
    }
   ],
   "source": [
    "array7 = np.zeros((3,4),dtype = \"int\") #np.zeros():Belirtilen şekil ve boyutta sıfırlarla dolu bir NumPy dizisi oluşturur.\n",
    "print(array7)"
   ]
  },
  {
   "cell_type": "code",
   "execution_count": 83,
   "id": "5db590eb-f3a4-4f1f-ae0b-39d13b097c34",
   "metadata": {},
   "outputs": [
    {
     "name": "stdout",
     "output_type": "stream",
     "text": [
      "[[1 1 1 1]\n",
      " [1 1 1 1]\n",
      " [1 1 1 1]]\n"
     ]
    }
   ],
   "source": [
    "array8 = np.ones((3,4),dtype = \"int\")  #np.ones():Belirtilen şekil ve boyutta birlerle dolu bir NumPy dizisi oluşturur.\n",
    "print(array8)"
   ]
  },
  {
   "cell_type": "code",
   "execution_count": 81,
   "id": "44827dec-5d4e-4e6c-963b-cde7d75a8ee8",
   "metadata": {},
   "outputs": [
    {
     "data": {
      "text/plain": [
       "array([[0, 0, 0, 0],\n",
       "       [0, 0, 0, 0],\n",
       "       [0, 0, 0, 0],\n",
       "       [1, 1, 1, 1],\n",
       "       [1, 1, 1, 1],\n",
       "       [1, 1, 1, 1]])"
      ]
     },
     "execution_count": 81,
     "metadata": {},
     "output_type": "execute_result"
    }
   ],
   "source": [
    "#Birleştirme (Concatenation) : Diziler belirli bir eksende birleştirilir.Bu dizilerin yan yana veya üst üste eklenmesini ifade eder.\n",
    "\n",
    "np.concatenate([array7,array8],axis = 0)  #axis = 0 her satır boyunca yapılan işlemdir."
   ]
  },
  {
   "cell_type": "code",
   "execution_count": 80,
   "id": "f2f3869f-e9f4-453b-881d-6d80cb21dd05",
   "metadata": {},
   "outputs": [
    {
     "data": {
      "text/plain": [
       "array([[0, 0, 0, 0, 1, 1, 1, 1],\n",
       "       [0, 0, 0, 0, 1, 1, 1, 1],\n",
       "       [0, 0, 0, 0, 1, 1, 1, 1]])"
      ]
     },
     "execution_count": 80,
     "metadata": {},
     "output_type": "execute_result"
    }
   ],
   "source": [
    "np.concatenate([array7,array8],axis = 1) #axis = 1 her sütün boyunca yapılan işlemdir."
   ]
  }
 ],
 "metadata": {
  "kernelspec": {
   "display_name": "Python 3 (ipykernel)",
   "language": "python",
   "name": "python3"
  },
  "language_info": {
   "codemirror_mode": {
    "name": "ipython",
    "version": 3
   },
   "file_extension": ".py",
   "mimetype": "text/x-python",
   "name": "python",
   "nbconvert_exporter": "python",
   "pygments_lexer": "ipython3",
   "version": "3.12.4"
  }
 },
 "nbformat": 4,
 "nbformat_minor": 5
}
