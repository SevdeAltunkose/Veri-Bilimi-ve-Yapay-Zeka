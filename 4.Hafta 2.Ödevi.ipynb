{
 "cells": [
  {
   "cell_type": "markdown",
   "id": "ab174252-a85a-4a49-83dd-875bbd8cba1b",
   "metadata": {},
   "source": [
    "• Kullanıcıdan pi değeri ve yarıçap bilgisi alarak dairenin alanını hesaplayan bir fonksiyon oluşturulur.\r\n"
   ]
  },
  {
   "cell_type": "code",
   "execution_count": 1,
   "id": "6016f0af-0dda-456c-b40c-bf057067be7d",
   "metadata": {},
   "outputs": [],
   "source": [
    "def dairenin_alanı():\n",
    "    pi = input(\"pi sayısını giriniz: \")\n",
    "    yari_cap = input (\"Yarıçap değerini girini: \")\n",
    "    d_alan = float(pi) * (float(yari_cap)**2)      #Dairenin alan formülü = pi * (yarıçap**2)\n",
    "    return(round(d_alan))                          #round() çıkan sonucu en yakın tam sayıya yuvarlar.\n",
    "    "
   ]
  },
  {
   "cell_type": "code",
   "execution_count": 2,
   "id": "9702165f-0000-4af8-b19c-cbacdaa69062",
   "metadata": {
    "scrolled": true
   },
   "outputs": [
    {
     "name": "stdin",
     "output_type": "stream",
     "text": [
      "pi sayısını giriniz:  3.14\n",
      "Yarıçap değerini girini:  9\n"
     ]
    },
    {
     "data": {
      "text/plain": [
       "254"
      ]
     },
     "execution_count": 2,
     "metadata": {},
     "output_type": "execute_result"
    }
   ],
   "source": [
    "dairenin_alanı()"
   ]
  },
  {
   "cell_type": "markdown",
   "id": "c64d9f26-a0e0-4c87-bbbd-619dfe3189c7",
   "metadata": {},
   "source": [
    "• Faktöriyel adında fonksiyon oluşturulur. Döngü kullanarak parametre olarak girilen sayının faktöriyeli hesaplanır. Format metodunu kullanılarak ekrana yazdırılır."
   ]
  },
  {
   "cell_type": "code",
   "execution_count": 12,
   "id": "00956cb5-4809-49c7-bc4a-7f4fd77913c0",
   "metadata": {},
   "outputs": [],
   "source": [
    "def faktoriyel(parametre):\n",
    "    factorial = 1\n",
    "    k = parametre\n",
    "    while k > 0:\n",
    "        factorial = factorial * k\n",
    "        k = k - 1\n",
    "    return(str(parametre) + \" sayısının faktoriyeli {} sayısıdır. \".format(str(factorial)))"
   ]
  },
  {
   "cell_type": "code",
   "execution_count": 15,
   "id": "e8d6352b-ea0e-44aa-8652-68935161b05a",
   "metadata": {
    "scrolled": true
   },
   "outputs": [
    {
     "data": {
      "text/plain": [
       "'6 sayısının faktoriyeli 720 sayısıdır. '"
      ]
     },
     "execution_count": 15,
     "metadata": {},
     "output_type": "execute_result"
    }
   ],
   "source": [
    "faktoriyel(6)"
   ]
  },
  {
   "cell_type": "markdown",
   "id": "de3dc97a-cb47-49f6-b066-65102ecaa6fa",
   "metadata": {},
   "source": [
    "• Kişinin fonksiyona doğum yılını vererek kaç yaşında olduğunu hesaplayan bir fonksiyon oluşturun."
   ]
  },
  {
   "cell_type": "code",
   "execution_count": 16,
   "id": "324a5233-1091-442e-aeaf-ad7a5d9a5f16",
   "metadata": {},
   "outputs": [],
   "source": [
    "def Yas_hesapla(doğum_yili):\n",
    "    yas = 2024 - doğum_yili\n",
    "    return yas"
   ]
  },
  {
   "cell_type": "code",
   "execution_count": 17,
   "id": "57aee215-79c8-4e8a-b9b8-4f1ee13a5b0a",
   "metadata": {
    "scrolled": true
   },
   "outputs": [
    {
     "data": {
      "text/plain": [
       "29"
      ]
     },
     "execution_count": 17,
     "metadata": {},
     "output_type": "execute_result"
    }
   ],
   "source": [
    "Yas_hesapla(1995)"
   ]
  },
  {
   "cell_type": "markdown",
   "id": "c72a431e-fb54-4b40-b773-4efe7e4d7b46",
   "metadata": {},
   "source": [
    "• Doğum yılı ve isim bilgisi verilen fonksiyon kişinin emekli olup olmadığını söylesin.(Kişi 65 yaşında ise emekli olur.) Burada yaş hesabını yukarıdaki örnekteki fonksiyonu kullanarak yapsın.(Yani fonksiyon içinde fonksiyon kullanmanızı istiyorum :)) Kişi 65 yaşında ya da daha fazlaysa \"Emekli oldunuz\" yanıtını, 65 yaşından küçükse emekliliğine kaç yıl kaldığını da hesaplayarak \"(isim) emekliliğine (yıl) kaldı.\" yanıtını versin."
   ]
  },
  {
   "cell_type": "code",
   "execution_count": 27,
   "id": "4ea84bb3-b491-49ec-b351-7cfb02f93474",
   "metadata": {},
   "outputs": [],
   "source": [
    "def Emeklilik(doğum_yili,İsim):\n",
    "    yas = Yas_hesapla(doğum_yili)\n",
    "    if yas > 65:\n",
    "        print(\"Emekli oldunuz.Dünya seyahatına çıkabilirsiniz. \")\n",
    "    else:\n",
    "        kalan_yil = 65 - yas\n",
    "        print(f\"{İsim} emeklilik için {kalan_yil} yılınız kaldı.Çalışmaya devam ediniz. \")\n",
    "    "
   ]
  },
  {
   "cell_type": "code",
   "execution_count": 28,
   "id": "b4da2a3b-7b04-4f3a-876d-c26cb6df473a",
   "metadata": {},
   "outputs": [
    {
     "name": "stdout",
     "output_type": "stream",
     "text": [
      "Emekli oldunuz.Dünya seyahatına çıkabilirsiniz. \n"
     ]
    }
   ],
   "source": [
    "Emeklilik(1940,\"Sevde\")"
   ]
  }
 ],
 "metadata": {
  "kernelspec": {
   "display_name": "Python 3 (ipykernel)",
   "language": "python",
   "name": "python3"
  },
  "language_info": {
   "codemirror_mode": {
    "name": "ipython",
    "version": 3
   },
   "file_extension": ".py",
   "mimetype": "text/x-python",
   "name": "python",
   "nbconvert_exporter": "python",
   "pygments_lexer": "ipython3",
   "version": "3.12.4"
  }
 },
 "nbformat": 4,
 "nbformat_minor": 5
}
