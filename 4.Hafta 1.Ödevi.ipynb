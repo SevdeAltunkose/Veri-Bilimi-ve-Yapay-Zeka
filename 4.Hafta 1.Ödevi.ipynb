{
 "cells": [
  {
   "cell_type": "markdown",
   "id": "b1d4b317-6db5-4a87-a5e4-ebc6ee4a5a22",
   "metadata": {},
   "source": [
    "Ödev-1: Kullanıcıdan maaş bilgisini istenir ve bu bilgiye göre maaşından ne kadar vergi kesileceğini hesaplanır. Kullanıcının geliri;\r\n",
    "\r\n",
    "\r\n",
    " 10000 ve altındaysa maaşından %5 kesinti olur. \r\n",
    " 25000 ve altındaysa maaşından %10 kesinti olur. \r\n",
    " 45000 ve altındaysa maaşından %25 kesinti olur. \r\n",
    " Diğer koşullarda %30 kesinti olur. \r\n",
    "\r\n",
    "Bu durumlara göre kullanıcının yeni maaşı yazdırılır."
   ]
  },
  {
   "cell_type": "code",
   "execution_count": 1,
   "id": "c265e282-8f09-4fad-bf46-42298e03f018",
   "metadata": {},
   "outputs": [
    {
     "name": "stdin",
     "output_type": "stream",
     "text": [
      "Lütfen maaş bilginizi giriniz: 40000\n"
     ]
    },
    {
     "name": "stdout",
     "output_type": "stream",
     "text": [
      "Yeni maaşınız: 30000.0\n",
      "Yeni maaşınız: 30000.0\n",
      "Yeni maşınız: 30000.0\n"
     ]
    }
   ],
   "source": [
    "maas = int(input(\"Lütfen maaş bilginizi giriniz:\"))\n",
    "\n",
    "if maas <= 10000:\n",
    "    yeni_maas = maas - maas*0.05\n",
    "   \n",
    "\n",
    "elif maas <= 25000:\n",
    "    yeni_maas = maas - maas*0.10\n",
    "   \n",
    "elif maas <= 45000:\n",
    "    yeni_maas = maas - maas*0.25\n",
    "   \n",
    "else:\n",
    "    yeni_maas = maas - maas*0.30\n",
    "\n",
    "print(\"Yeni maaşınız:\",yeni_maas)\n",
    "print(\"Yeni maaşınız: {}\".format(yeni_maas))\n",
    "print(f\"Yeni maşınız: {yeni_maas}\")"
   ]
  },
  {
   "cell_type": "markdown",
   "id": "4847478f-ba04-4c29-993b-86b753c26076",
   "metadata": {},
   "source": [
    "Ödev-2: Kullanıcıdan kullanıcı adı ve şifre oluşturmasını istenir. Şifrenin uzunluğu altı haneye ulaşmışsa hesabınız oluşturuldu mesajı alınır, altı haneden azsa altı haneli şifre oluşturması gerektiğinin mesajı alınır. (Sadece koşul kullanılması yeterli.)"
   ]
  },
  {
   "cell_type": "code",
   "execution_count": 2,
   "id": "346d006e-b10a-470f-9bff-bf86153d1590",
   "metadata": {},
   "outputs": [
    {
     "name": "stdin",
     "output_type": "stream",
     "text": [
      "Lütfen adınızı giriniz.  Sevde\n",
      "Lütfen şifrenizi giriniz.  123456\n"
     ]
    },
    {
     "name": "stdout",
     "output_type": "stream",
     "text": [
      "Şifreniz altı hanelidir.Hesabınız oluşturuldu. \n"
     ]
    }
   ],
   "source": [
    "kullanıcı_adi =input(\"Lütfen adınızı giriniz. \")\n",
    "\n",
    "sifre = input(\"Lütfen şifrenizi giriniz. \")\n",
    "\n",
    "if len(sifre) >= 6: \n",
    "    print(\"Şifreniz altı hanelidir.Hesabınız oluşturuldu. \")\n",
    "    \n",
    "else:\n",
    "    print(\"Şifreniz altı haneli değildir.Tekrar şifre oluşturunuz. \")\n"
   ]
  },
  {
   "cell_type": "markdown",
   "id": "027a8d2d-7d4d-4c7c-bb3f-2348b3f92792",
   "metadata": {},
   "source": [
    "Ödev-3: Bir önceki örnek geliştirilir.\n",
    "\n",
    "\n",
    " Kullanıcı girdiği şifre 5 ve 10 hane arasında olmak zorunda. \n",
    " Eğer bu koşula uyuyorsa \"Hesabınız oluşturuldu.\" mesajı alır. \n",
    " Koşulu sağlamıyorsa \"Lütfen girdiniz şifre 5 haneden az 10 haneden fazla olmasın!\" uyarısı alır. \n",
    " Bunu oluştururken kullanıcı istediğimiz şartlarda şifre oluşturana kadar sormaya devam eder"
   ]
  },
  {
   "cell_type": "code",
   "execution_count": 6,
   "id": "73831983-2e36-49b8-9137-a76e1628d127",
   "metadata": {},
   "outputs": [
    {
     "name": "stdin",
     "output_type": "stream",
     "text": [
      "Adınızı giriniz: Sevde\n",
      "Şifrenizi giriniz.  582\n"
     ]
    },
    {
     "name": "stdout",
     "output_type": "stream",
     "text": [
      "Lütfen girdiğiniz şifre 5 haneden az 10 haneden fazla olmasın. \n"
     ]
    },
    {
     "name": "stdin",
     "output_type": "stream",
     "text": [
      "Şifrenizi giriniz.  16942454202\n"
     ]
    },
    {
     "name": "stdout",
     "output_type": "stream",
     "text": [
      "Lütfen girdiğiniz şifre 5 haneden az 10 haneden fazla olmasın. \n"
     ]
    },
    {
     "name": "stdin",
     "output_type": "stream",
     "text": [
      "Şifrenizi giriniz.  123456\n"
     ]
    },
    {
     "name": "stdout",
     "output_type": "stream",
     "text": [
      "Hesabınız oluşturuldu. \n"
     ]
    }
   ],
   "source": [
    "kullanici_adi = input(\"Adınızı giriniz:\")\n",
    "\n",
    "while True:\n",
    "    sifre = input(\"Şifrenizi giriniz. \")\n",
    "    \n",
    "    if  5 <= len(sifre) <= 10:\n",
    "        print(\"Hesabınız oluşturuldu. \")\n",
    "        break\n",
    "    else:\n",
    "        print (\"Lütfen girdiğiniz şifre 5 haneden az 10 haneden fazla olmasın. \")\n"
   ]
  },
  {
   "cell_type": "markdown",
   "id": "fa58baed-6686-45a0-9edf-72708e610632",
   "metadata": {},
   "source": [
    "Ödev-4: Kullanıcıdan isim ve şifre isteyeceğiz ve şifre girişi için üç hak verilir.\r\n",
    "\r\n",
    "\r\n",
    " Eğer önceden tanımlı şifre ile kullanıcıdan gelen şifre aynıysa \"Giriş yapıldı.\" yazar. \r\n",
    " Şifre girişi yanlışsa \"Yanlış şifre girildi!\" uyarısı verilsin ve üç yanlış denemede program biter. \r\n",
    " Tercihe göre kalan hak bilgisi verilir. "
   ]
  },
  {
   "cell_type": "code",
   "execution_count": 9,
   "id": "57a5b4e5-cce4-49d1-a3b5-22f0f6fde710",
   "metadata": {},
   "outputs": [
    {
     "name": "stdin",
     "output_type": "stream",
     "text": [
      "Lütfen adınızı girin.  Sevde\n",
      "Lütfen şifrenizi giriniz.  215\n"
     ]
    },
    {
     "name": "stdout",
     "output_type": "stream",
     "text": [
      "Yanlış şifre girdiniz.Kalan hakkınız: 2\n"
     ]
    },
    {
     "name": "stdin",
     "output_type": "stream",
     "text": [
      "Lütfen şifrenizi giriniz.  2356\n"
     ]
    },
    {
     "name": "stdout",
     "output_type": "stream",
     "text": [
      "Yanlış şifre girdiniz.Kalan hakkınız: 1\n"
     ]
    },
    {
     "name": "stdin",
     "output_type": "stream",
     "text": [
      "Lütfen şifrenizi giriniz.  545\n"
     ]
    },
    {
     "name": "stdout",
     "output_type": "stream",
     "text": [
      "Üç yanlış deneme yaptınız.Program sonlandırılıyor. \n"
     ]
    }
   ],
   "source": [
    "dogru_sifre = \"546252\"\n",
    "\n",
    "kullanıcı_adi =input(\"Lütfen adınızı girin. \")\n",
    "\n",
    "deneme_hakkı = 3\n",
    "\n",
    "while deneme_hakkı > 0:\n",
    "    sifre =input(\"Lütfen şifrenizi giriniz. \")\n",
    "    \n",
    "    if sifre == dogru_sifre:\n",
    "        print(\"Giriş yapıldı. \")\n",
    "        break\n",
    "    else:\n",
    "        deneme_hakkı -= 1\n",
    "        if deneme_hakkı > 0:\n",
    "            print(f\"Yanlış şifre girdiniz.Kalan hakkınız: {deneme_hakkı}\")\n",
    "        else:\n",
    "            print(\"Üç yanlış deneme yaptınız.Program sonlandırılıyor. \")\n",
    "        \n",
    "\n"
   ]
  }
 ],
 "metadata": {
  "kernelspec": {
   "display_name": "Python 3 (ipykernel)",
   "language": "python",
   "name": "python3"
  },
  "language_info": {
   "codemirror_mode": {
    "name": "ipython",
    "version": 3
   },
   "file_extension": ".py",
   "mimetype": "text/x-python",
   "name": "python",
   "nbconvert_exporter": "python",
   "pygments_lexer": "ipython3",
   "version": "3.12.4"
  }
 },
 "nbformat": 4,
 "nbformat_minor": 5
}
